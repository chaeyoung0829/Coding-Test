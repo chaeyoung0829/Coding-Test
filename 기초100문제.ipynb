{
 "cells": [
  {
   "cell_type": "code",
   "execution_count": 3,
   "metadata": {},
   "outputs": [
    {
     "name": "stdout",
     "output_type": "stream",
     "text": [
      "Hello\n",
      " World!\n"
     ]
    }
   ],
   "source": [
    "print(\"Hello\\n World!\") #print문 두 개 써도 OK"
   ]
  },
  {
   "cell_type": "code",
   "execution_count": 4,
   "metadata": {},
   "outputs": [
    {
     "name": "stdout",
     "output_type": "stream",
     "text": [
      "'Hello'\n"
     ]
    }
   ],
   "source": [
    "print(\"'Hello'\") #작은 따옴표(')(single quotation mark)"
   ]
  },
  {
   "cell_type": "code",
   "execution_count": 6,
   "metadata": {},
   "outputs": [
    {
     "name": "stdout",
     "output_type": "stream",
     "text": [
      "\"Hello World\"\n"
     ]
    }
   ],
   "source": [
    "print('\"Hello World\"')"
   ]
  },
  {
   "cell_type": "code",
   "execution_count": 7,
   "metadata": {},
   "outputs": [
    {
     "name": "stdout",
     "output_type": "stream",
     "text": [
      "\"!@#$%^&*()'\n"
     ]
    }
   ],
   "source": [
    "print(\"\\\"!@#$%^&*()\\'\")"
   ]
  },
  {
   "cell_type": "code",
   "execution_count": 10,
   "metadata": {},
   "outputs": [
    {
     "name": "stdout",
     "output_type": "stream",
     "text": [
      "C:\\Download\\'hello'.py\n"
     ]
    }
   ],
   "source": [
    "print(\"\\\"C:\\\\Download\\\\'hello'.py\\\"\")"
   ]
  },
  {
   "cell_type": "code",
   "execution_count": 18,
   "metadata": {},
   "outputs": [
    {
     "name": "stdout",
     "output_type": "stream",
     "text": [
      "\"C:\\Download\\'hello\\'.py\"\n"
     ]
    }
   ],
   "source": [
    "print(r'\"C:\\Download\\'hello\\'.py\"') \n",
    "# r을 붙여서 생짜 문자로 이해하라는 명령\n"
   ]
  },
  {
   "cell_type": "code",
   "execution_count": 22,
   "metadata": {},
   "outputs": [
    {
     "name": "stdout",
     "output_type": "stream",
     "text": [
      "Hello\\nWorld\n"
     ]
    }
   ],
   "source": [
    "print(\"Hello\\\\nWorld\")"
   ]
  },
  {
   "cell_type": "code",
   "execution_count": 26,
   "metadata": {},
   "outputs": [
    {
     "name": "stdout",
     "output_type": "stream",
     "text": [
      "print(\"Hello\\nWorld\")\n",
      "print(\"Hello\\nWorld\")\n"
     ]
    }
   ],
   "source": [
    "print('''print(\"Hello\\\\nWorld\")''') #\\는 문자 그대로를 출력하라는 의미\n",
    "print(\"print(\\\"Hello\\\\nWorld\\\")\")\n"
   ]
  },
  {
   "cell_type": "code",
   "execution_count": 33,
   "metadata": {},
   "outputs": [
    {
     "name": "stdout",
     "output_type": "stream",
     "text": [
      "이름: 김채영 번호: 32\n"
     ]
    }
   ],
   "source": [
    "name = input(\"이름:\")\n",
    "num = input(\"번호:\")\n",
    "print(\"이름:\",name, \"번호:\",num)"
   ]
  },
  {
   "cell_type": "code",
   "execution_count": 36,
   "metadata": {},
   "outputs": [
    {
     "name": "stdout",
     "output_type": "stream",
     "text": [
      "3\n"
     ]
    }
   ],
   "source": [
    "n=input() #c에서는 그냥 int a \n",
    "n=int(n)\n",
    "print(n)\n",
    "\n",
    "#c에서는\n",
    "#int a;\n",
    "#scanf(\"%d\", &a);\n",
    "#printf(a)"
   ]
  },
  {
   "cell_type": "code",
   "execution_count": 40,
   "metadata": {},
   "outputs": [
    {
     "name": "stdout",
     "output_type": "stream",
     "text": [
      "3.3\n"
     ]
    }
   ],
   "source": [
    "a=input()\n",
    "print(float(a))\n"
   ]
  },
  {
   "cell_type": "code",
   "execution_count": 44,
   "metadata": {},
   "outputs": [
    {
     "name": "stdout",
     "output_type": "stream",
     "text": [
      "1\n",
      "2\n"
     ]
    }
   ],
   "source": [
    "a=input()\n",
    "b=input()\n",
    "print(int(a))\n",
    "print(int(b))"
   ]
  },
  {
   "cell_type": "code",
   "execution_count": 48,
   "metadata": {},
   "outputs": [
    {
     "name": "stdout",
     "output_type": "stream",
     "text": [
      "a\n",
      "b\n"
     ]
    }
   ],
   "source": [
    "a=input()\n",
    "b=input()\n",
    "print(str(b))\n",
    "print(str(a))"
   ]
  },
  {
   "cell_type": "code",
   "execution_count": 51,
   "metadata": {},
   "outputs": [
    {
     "name": "stdout",
     "output_type": "stream",
     "text": [
      "0.1\n",
      "0.1\n",
      "0.1\n",
      "0.1\n",
      "0.1\n"
     ]
    }
   ],
   "source": [
    "f=input()\n",
    "for i in range(5) :\n",
    "    print(float(f))"
   ]
  },
  {
   "cell_type": "code",
   "execution_count": 55,
   "metadata": {},
   "outputs": [
    {
     "name": "stdout",
     "output_type": "stream",
     "text": [
      "1.2\n",
      "4\n"
     ]
    }
   ],
   "source": [
    "a,b=input().split()\n",
    "print(a)\n",
    "print(b)"
   ]
  },
  {
   "cell_type": "code",
   "execution_count": 59,
   "metadata": {},
   "outputs": [
    {
     "name": "stdout",
     "output_type": "stream",
     "text": [
      "b a\n"
     ]
    }
   ],
   "source": [
    "a,b=input().split()\n",
    "print(b,a)"
   ]
  },
  {
   "cell_type": "code",
   "execution_count": 60,
   "metadata": {},
   "outputs": [
    {
     "name": "stdout",
     "output_type": "stream",
     "text": [
      "a a a\n"
     ]
    }
   ],
   "source": [
    "a=input()\n",
    "print(a,a,a)\n"
   ]
  },
  {
   "cell_type": "code",
   "execution_count": 1,
   "metadata": {},
   "outputs": [
    {
     "name": "stdout",
     "output_type": "stream",
     "text": [
      "3:14\n"
     ]
    }
   ],
   "source": [
    "a,b=input().split(':')\n",
    "print(a,b,sep=':')\n",
    "#sep은 seperator를 의미하므로 콜론(:)기호를 사이에 두고 값 출력"
   ]
  },
  {
   "cell_type": "code",
   "execution_count": 69,
   "metadata": {},
   "outputs": [
    {
     "name": "stdout",
     "output_type": "stream",
     "text": [
      "4-3-2020\n"
     ]
    }
   ],
   "source": [
    "y,m,d=input().split('.')\n",
    "print(d,m,y,sep='-')\n",
    "#2020.3.4입력함"
   ]
  },
  {
   "cell_type": "code",
   "execution_count": 74,
   "metadata": {},
   "outputs": [
    {
     "name": "stdout",
     "output_type": "stream",
     "text": [
      "0009071121112\n"
     ]
    }
   ],
   "source": [
    "a,b=input().split('-')\n",
    "print(a+b)\n",
    "#그냥 print(a,b)하면 둘 사이 공백이 생김"
   ]
  },
  {
   "cell_type": "code",
   "execution_count": 75,
   "metadata": {},
   "outputs": [
    {
     "name": "stdout",
     "output_type": "stream",
     "text": [
      "0009071121112\n"
     ]
    }
   ],
   "source": [
    "a, b = input().split('-')\n",
    "print(a,b,sep='')\n",
    "#이렇게도 가능\n",
    "#이 경우 a와 b 사이에 아무 것도 삽입되지 않아서, 두 문자열이 바로 이어서 출력됨\n"
   ]
  },
  {
   "cell_type": "code",
   "execution_count": 79,
   "metadata": {},
   "outputs": [
    {
     "name": "stdout",
     "output_type": "stream",
     "text": [
      "H\n",
      "e\n",
      "l\n",
      "l\n",
      "o\n"
     ]
    }
   ],
   "source": [
    "a=input()\n",
    "for i in range(len(a)) : #그냥 a하면 문자라서 안됨\n",
    "    print(a[i])"
   ]
  },
  {
   "cell_type": "code",
   "execution_count": 85,
   "metadata": {},
   "outputs": [
    {
     "name": "stdout",
     "output_type": "stream",
     "text": [
      "20 03 04\n",
      "20 03 04\n"
     ]
    }
   ],
   "source": [
    "#200304입력\n",
    "a=input()\n",
    "print(a[0:2],a[2:4],a[4:6])\n",
    "print(a[0:2], a[2:4], a[4:6], sep=' ')\n",
    "#sep=' '를 명시적으로 지정하면, 각 인수 사이에 공백을 삽입"
   ]
  },
  {
   "cell_type": "code",
   "execution_count": 86,
   "metadata": {},
   "outputs": [
    {
     "name": "stdout",
     "output_type": "stream",
     "text": [
      "23\n"
     ]
    }
   ],
   "source": [
    "#03:23:55입력\n",
    "a,b,c=input().split(':')\n",
    "print(b)"
   ]
  },
  {
   "cell_type": "code",
   "execution_count": 87,
   "metadata": {},
   "outputs": [
    {
     "name": "stdout",
     "output_type": "stream",
     "text": [
      "helloworld\n"
     ]
    }
   ],
   "source": [
    "#hello world입력\n",
    "a,b=input().split()\n",
    "print(a+b)"
   ]
  },
  {
   "cell_type": "code",
   "execution_count": 3,
   "metadata": {},
   "outputs": [
    {
     "name": "stdout",
     "output_type": "stream",
     "text": [
      "0\n"
     ]
    }
   ],
   "source": [
    "a,b=input().split()\n",
    "c=int(a)+int(b)\n",
    "print(c)\n",
    "#입력은 123 -123"
   ]
  },
  {
   "cell_type": "code",
   "execution_count": 7,
   "metadata": {},
   "outputs": [
    {
     "name": "stdout",
     "output_type": "stream",
     "text": [
      "1.0\n"
     ]
    }
   ],
   "source": [
    "a=input()\n",
    "b=input()\n",
    "c=float(a)+float(b)\n",
    "print(c)"
   ]
  },
  {
   "cell_type": "code",
   "execution_count": 12,
   "metadata": {},
   "outputs": [
    {
     "name": "stdout",
     "output_type": "stream",
     "text": [
      "ff\n"
     ]
    }
   ],
   "source": [
    "#10진수를 입력받아 16진수(hexadecimal)로 출력해보자.\n",
    "a=input()\n",
    "n=int(a)\n",
    "print('%x'%n) #16진수(hexadecimal) / %o로 출력하면 8진수(octal) 문자열로 출력\n",
    "#입력은 255(16진수면 ff고 8진수면 377)"
   ]
  },
  {
   "cell_type": "code",
   "execution_count": 10,
   "metadata": {},
   "outputs": [
    {
     "name": "stdout",
     "output_type": "stream",
     "text": [
      "FF\n"
     ]
    }
   ],
   "source": [
    "a=input()\n",
    "n=int(a)\n",
    "print('%X'%n)"
   ]
  },
  {
   "cell_type": "code",
   "execution_count": 13,
   "metadata": {},
   "outputs": [
    {
     "name": "stdout",
     "output_type": "stream",
     "text": [
      "17\n"
     ]
    }
   ],
   "source": [
    "#16진수를 입력받아 8진수(octal)로 출력\n",
    "a=input()\n",
    "n=int(a,16) #력된 a를 16진수로 인식해 변수 n에 저장\n",
    "print('%o'%n)\n",
    "#f입력"
   ]
  },
  {
   "cell_type": "code",
   "execution_count": 15,
   "metadata": {},
   "outputs": [
    {
     "name": "stdout",
     "output_type": "stream",
     "text": [
      "65\n"
     ]
    }
   ],
   "source": [
    "#영문자 1개를 입력받아 10진수 유니코드(Unicode) 값으로 출력\n",
    "a=ord(input()) # #입력받은 문자를 10진수 유니코드 값으로 변환한 후, n에 저장\n",
    "#ord( ) 는 어떤 문자의 순서 위치(ordinal position) 값을 의미한다.  \n",
    "#실제로 각각의 문자들에는 연속된 정수 값이 순서에 따라 부여 되어 있다. A:65, B:66, C:67 .... \n",
    "print(a)\n",
    "#A입력"
   ]
  },
  {
   "cell_type": "code",
   "execution_count": 16,
   "metadata": {},
   "outputs": [
    {
     "name": "stdout",
     "output_type": "stream",
     "text": [
      "A\n"
     ]
    }
   ],
   "source": [
    "#10진 정수 1개를 입력받아 유니코드 문자로 출력(입력65)\n",
    "\n",
    "a=int(input())\n",
    "print(chr(a)) # 정수 값을 유니코드 문자(chracter)로 바꿔 출력\n",
    "\n",
    "#chr( )는 정수값->문자\n",
    "#ord( )는 문자->정수값\n"
   ]
  },
  {
   "cell_type": "code",
   "execution_count": 17,
   "metadata": {},
   "outputs": [
    {
     "name": "stdout",
     "output_type": "stream",
     "text": [
      "1\n"
     ]
    }
   ],
   "source": [
    "#입력된 정수의 부호를 바꿔 출력\n",
    "a=int(input())\n",
    "print(-a)"
   ]
  },
  {
   "cell_type": "code",
   "execution_count": 26,
   "metadata": {},
   "outputs": [
    {
     "name": "stdout",
     "output_type": "stream",
     "text": [
      "B\n"
     ]
    }
   ],
   "source": [
    "#문자 1개를 입력받아 그 다음 문자를 출력(A 입력)\n",
    "a=ord(input())\n",
    "print(chr(a+1))"
   ]
  },
  {
   "cell_type": "code",
   "execution_count": 31,
   "metadata": {},
   "outputs": [
    {
     "name": "stdout",
     "output_type": "stream",
     "text": [
      "246\n"
     ]
    }
   ],
   "source": [
    "#정수 2개(a, b)를 입력받아 a에서 b를 뺀 차를 출력하는 프로그램을 작성해보자.\n",
    "a,b=input().split()\n",
    "c=int(a)-int(b) #여기서 그냥 c=a-b하면 안됨\n",
    "print(c)\n",
    "#입력은 123 -123"
   ]
  },
  {
   "cell_type": "code",
   "execution_count": 33,
   "metadata": {},
   "outputs": [
    {
     "name": "stdout",
     "output_type": "stream",
     "text": [
      "1.0\n"
     ]
    }
   ],
   "source": [
    "#실수 2개(f1, f2)를 입력받아 곱을 출력하는 프로그램을 작성해보자.\n",
    "a,b=input().split() #input은 문자도 입력 가능\n",
    "c=float(a)*float(b)\n",
    "print(c)\n",
    "#0.5 2.0입력"
   ]
  },
  {
   "cell_type": "code",
   "execution_count": 36,
   "metadata": {},
   "outputs": [
    {
     "name": "stdout",
     "output_type": "stream",
     "text": [
      "lovelovelove\n"
     ]
    }
   ],
   "source": [
    "#단어와 반복 횟수를 입력받아 여러 번 출력\n",
    "a,b=input().split()\n",
    "print(a*int(b))\n",
    "#love 3입력\n"
   ]
  },
  {
   "cell_type": "code",
   "execution_count": 37,
   "metadata": {},
   "outputs": [
    {
     "name": "stdout",
     "output_type": "stream",
     "text": [
      " I love CS I love CS I love CS\n"
     ]
    }
   ],
   "source": [
    "#반복 횟수와 문장을 입력받아 여러 번 출력\n",
    "a=input()\n",
    "b=input()\n",
    "print(b*int(a))\n",
    "#3\n",
    "#I love CS\n"
   ]
  },
  {
   "cell_type": "code",
   "execution_count": 40,
   "metadata": {},
   "outputs": [
    {
     "name": "stdout",
     "output_type": "stream",
     "text": [
      "1024\n"
     ]
    }
   ],
   "source": [
    "#정수 2개(a, b)를 입력받아 a를 b번 곱한 거듭제곱을 출력하는 프로그램을 작성\n",
    "a,b=input().split()\n",
    "c=int(a)**int(b)\n",
    "print(c)\n",
    "# 2 10입력\n"
   ]
  },
  {
   "cell_type": "code",
   "execution_count": 41,
   "metadata": {},
   "outputs": [
    {
     "name": "stdout",
     "output_type": "stream",
     "text": [
      "16.0\n"
     ]
    }
   ],
   "source": [
    "#실수 2개(f1, f2)를 입력받아 f1을 f2번 거듭제곱한 값을 출력하는 프로그램을 작성\n",
    "a,b=input().split()\n",
    "c=float(a)**float(b)\n",
    "print(c)\n",
    "#4.0 2.0입력"
   ]
  },
  {
   "cell_type": "code",
   "execution_count": 43,
   "metadata": {},
   "outputs": [
    {
     "name": "stdout",
     "output_type": "stream",
     "text": [
      "3\n"
     ]
    }
   ],
   "source": [
    "#정수 2개(a, b) 를 입력받아 a를 b로 나눈 몫을 출력\n",
    "a,b=input().split()\n",
    "c=int(a)//int(b) \n",
    "print(c)\n",
    "#10 3 입력"
   ]
  },
  {
   "cell_type": "code",
   "execution_count": 44,
   "metadata": {},
   "outputs": [
    {
     "name": "stdout",
     "output_type": "stream",
     "text": [
      "1\n"
     ]
    }
   ],
   "source": [
    "#정수 2개(a, b) 를 입력받아 a를 b로 나눈 나머지를 출력\n",
    "a,b=input().split()\n",
    "c=int(a)%int(b)\n",
    "print(c)\n",
    "#10 3 입력"
   ]
  },
  {
   "cell_type": "code",
   "execution_count": 45,
   "metadata": {},
   "outputs": [
    {
     "name": "stdout",
     "output_type": "stream",
     "text": [
      "3.14\n"
     ]
    }
   ],
   "source": [
    "#실수 1개를 입력받아 소숫점 이하 두 번째 자리까지의 정확도로 반올림한 값을 출력\n",
    "a=float(input())\n",
    "print(format(a,\".2f\"))\n",
    "#3.141592"
   ]
  },
  {
   "cell_type": "code",
   "execution_count": 48,
   "metadata": {},
   "outputs": [
    {
     "name": "stdout",
     "output_type": "stream",
     "text": [
      "3.333\n"
     ]
    }
   ],
   "source": [
    "#실수 2개(f1, f2)를 입력받아 f1 을 f2 로 나눈 값을 출력해보자. \n",
    "#이 때 소숫점 넷째자리에서 반올림하여 무조건 소숫점 셋째 자리까지 출력한다.\n",
    "\n",
    "a,b=input().split()\n",
    "c=float(a)/float(b)\n",
    "print(format(c,\".3f\"))\n",
    "#10.0 3.0"
   ]
  },
  {
   "cell_type": "code",
   "execution_count": 52,
   "metadata": {},
   "outputs": [
    {
     "name": "stdout",
     "output_type": "stream",
     "text": [
      "13\n",
      "7\n",
      "30\n",
      "3\n",
      "1\n",
      "3.33\n",
      "3.33\n"
     ]
    }
   ],
   "source": [
    "#정수 2개(a, b)를 입력받아 합, 차, 곱, 몫, 나머지, 나눈 값을 자동으로 계산해보자.\n",
    "#단, b는 0이 아니다.\n",
    "\n",
    "a,b=input().split()\n",
    "a=int(a)\n",
    "b=int(b)\n",
    "print(a+b)\n",
    "print(a-b)\n",
    "print(a*b)\n",
    "print(a//b)\n",
    "print(a%b)\n",
    "print(format((a/b),\".2f\"))\n",
    "print(round(a/b,2))\n",
    "#10 3\n"
   ]
  },
  {
   "cell_type": "code",
   "execution_count": 1,
   "metadata": {},
   "outputs": [
    {
     "name": "stdout",
     "output_type": "stream",
     "text": [
      "6 2.00\n"
     ]
    }
   ],
   "source": [
    "#정수 3개를 입력받아 합과 평균을 출력\n",
    "a,b,c=input().split()\n",
    "a=int(a)\n",
    "b=int(b)\n",
    "c=int(c)\n",
    "n=(a+b+c) /3\n",
    "n=float(n) #이거 안해도 2.00출력됨\n",
    "print(a+b+c,format(n,\".2f\"))\n",
    "#1 2 3"
   ]
  },
  {
   "cell_type": "code",
   "execution_count": 5,
   "metadata": {},
   "outputs": [
    {
     "name": "stdout",
     "output_type": "stream",
     "text": [
      "20\n",
      "5\n"
     ]
    }
   ],
   "source": [
    "#정수 1개를 입력받아 2배 곱해 출력해보자.\n",
    "#정수를 2배로 곱하거나 나누어 계산해 주는 비트단위시프트연산자 <<, >>를 이용\n",
    "a=int(input())\n",
    "print(a<<1) #x2\n",
    "print(a>>1) #/2\n",
    "#10"
   ]
  },
  {
   "cell_type": "code",
   "execution_count": 7,
   "metadata": {},
   "outputs": [
    {
     "name": "stdout",
     "output_type": "stream",
     "text": [
      "8\n"
     ]
    }
   ],
   "source": [
    "#정수 2개(a, b)를 입력받아 a를 2b배 곱한 값으로 출력해보자.\n",
    "a,b=input().split()\n",
    "a=int(a)\n",
    "b=int(b)\n",
    "print(a<<b)\n",
    "# 1 3"
   ]
  },
  {
   "cell_type": "code",
   "execution_count": 13,
   "metadata": {},
   "outputs": [
    {
     "name": "stdout",
     "output_type": "stream",
     "text": [
      "True\n",
      "True\n",
      "True\n"
     ]
    }
   ],
   "source": [
    "#두 정수(a, b)를 입력받아a가 b보다 작으면 True를, a가 b보다 크거나 같으면 False 를 출력하는 프로그램을 작성\n",
    "#1 9\n",
    "\n",
    "a,b=input().split()\n",
    "a=int(a)\n",
    "b=int(b)\n",
    "if a <b :\n",
    "    print(True)\n",
    "else :\n",
    "  print(False)\n",
    "\n",
    "#다른 방법\n",
    "print(a<b)\n",
    "print(1<=3)"
   ]
  },
  {
   "cell_type": "code",
   "execution_count": 15,
   "metadata": {},
   "outputs": [
    {
     "name": "stdout",
     "output_type": "stream",
     "text": [
      "False\n"
     ]
    }
   ],
   "source": [
    "#두 정수(a, b)를 입력받아 a와 b의 값이 같으면 True 를, 같지 않으면 False 를 출력\n",
    "#0 1\n",
    "a,b=input().split()\n",
    "print(a==b)"
   ]
  },
  {
   "cell_type": "code",
   "execution_count": 16,
   "metadata": {},
   "outputs": [
    {
     "name": "stdout",
     "output_type": "stream",
     "text": [
      "False\n"
     ]
    }
   ],
   "source": [
    "#두 정수(a, b)를 입력받아 b의 값이 a의 값 보다 크거나 같으면 True 를, 같지 않으면 False\n",
    "\n",
    "a,b=input().split()\n",
    "a=int(a)\n",
    "b=int(b)\n",
    "print(a<=b)\n",
    "\n"
   ]
  },
  {
   "cell_type": "code",
   "execution_count": 17,
   "metadata": {},
   "outputs": [
    {
     "name": "stdout",
     "output_type": "stream",
     "text": [
      "True\n"
     ]
    }
   ],
   "source": [
    "a,b=input().split()\n",
    "a=int(a)\n",
    "b=int(b)\n",
    "print(a!=b)"
   ]
  },
  {
   "cell_type": "code",
   "execution_count": 18,
   "metadata": {},
   "outputs": [
    {
     "name": "stdout",
     "output_type": "stream",
     "text": [
      "False\n"
     ]
    }
   ],
   "source": [
    "#정수가 입력되었을 때, True/False 로 평가해주는 프로그램을 작성\n",
    "a=int(input())\n",
    "print(bool(a))\n",
    "#python 언어에서 정수값 0은 False(거짓)로 평가되고, 그 외의 값들은 모두 True(참)로 평가된다.\n",
    "#0"
   ]
  },
  {
   "cell_type": "code",
   "execution_count": 19,
   "metadata": {},
   "outputs": [
    {
     "name": "stdout",
     "output_type": "stream",
     "text": [
      "False\n"
     ]
    }
   ],
   "source": [
    "#정수값이 입력될 때, 그 불 값을 반대로 출력\n",
    "a=bool(int(input()))\n",
    "print(not a)\n",
    "# 1"
   ]
  },
  {
   "cell_type": "code",
   "execution_count": 22,
   "metadata": {},
   "outputs": [
    {
     "name": "stdout",
     "output_type": "stream",
     "text": [
      "False\n"
     ]
    }
   ],
   "source": [
    "#2개의 정수값이 입력될 때, 그 불 값이 모두 True 일 때에만 True 를 출력\n",
    "\n",
    "a,b=input().split()\n",
    "print(bool(int(a)) and bool(int(b)))\n",
    "# 1 0"
   ]
  },
  {
   "cell_type": "code",
   "execution_count": 24,
   "metadata": {},
   "outputs": [
    {
     "name": "stdout",
     "output_type": "stream",
     "text": [
      "False\n",
      "False\n"
     ]
    }
   ],
   "source": [
    "#2개의 정수값이 입력될 때,그 불 값(True/False) 이 서로 다를 때에만 True 를 출력\n",
    "a,b=input().split()\n",
    "a=bool(int(a))\n",
    "b=bool(int(b))\n",
    "print(a!=b)\n",
    "print((a and (not b)) or (not a) and b) \n",
    "#이것도 가능한데 이거 잘 모르겠으면 4비트로 해가지고 0011, 0101그려봐\n",
    "#1 1"
   ]
  },
  {
   "cell_type": "code",
   "execution_count": 26,
   "metadata": {},
   "outputs": [
    {
     "name": "stdout",
     "output_type": "stream",
     "text": [
      "True\n",
      "True\n"
     ]
    }
   ],
   "source": [
    "#모두 false일 때만 True 출력\n",
    "a,b = input().split()\n",
    "a=bool(int(a))\n",
    "b=bool(int(b))\n",
    "print(not(a or b))\n",
    "print(a==False and b==False )\n",
    "#0 0 "
   ]
  },
  {
   "cell_type": "code",
   "execution_count": 33,
   "metadata": {},
   "outputs": [
    {
     "name": "stdout",
     "output_type": "stream",
     "text": [
      "-3\n"
     ]
    }
   ],
   "source": [
    "#입력 된 정수를 비트단위로 참/거짓을 바꾼 후 정수로 출력\n",
    "a=int(input())\n",
    "print(~a) #~(bitwise not)\n"
   ]
  },
  {
   "cell_type": "code",
   "execution_count": 38,
   "metadata": {},
   "outputs": [
    {
     "name": "stdout",
     "output_type": "stream",
     "text": [
      "1\n"
     ]
    }
   ],
   "source": [
    "#입력된 정수 두 개를 비트단위로 and 연산한 후 그 결과를 정수로 출력\n",
    "a,b=input().split()\n",
    "print(int(a) & int(b))\n",
    "#비트단위(bitwise)연산자 &를 사용하면 된다.(and, ampersand, 앰퍼센드라고 읽는다.)\n",
    "# 3 5"
   ]
  },
  {
   "cell_type": "code",
   "execution_count": 39,
   "metadata": {},
   "outputs": [
    {
     "name": "stdout",
     "output_type": "stream",
     "text": [
      "7\n"
     ]
    }
   ],
   "source": [
    "#or 연산\n",
    "a,b=input().split()\n",
    "print(int(a) | int(b)) #비트단위(bitwise) 연산자 |(or, vertical bar, 버티컬바)\n",
    "#3 5"
   ]
  },
  {
   "cell_type": "code",
   "execution_count": 40,
   "metadata": {},
   "outputs": [
    {
     "name": "stdout",
     "output_type": "stream",
     "text": [
      "6\n"
     ]
    }
   ],
   "source": [
    "#xor 연산\n",
    "a,b=input().split()\n",
    "print(int(a) ^ int(b)) #비트단위(bitwise) 연산자 ^(xor, circumflex/caret, 서컴플렉스/카릿)\n",
    "# 3 5"
   ]
  },
  {
   "cell_type": "code",
   "execution_count": 41,
   "metadata": {},
   "outputs": [
    {
     "name": "stdout",
     "output_type": "stream",
     "text": [
      "456\n"
     ]
    }
   ],
   "source": [
    "#두 정수(a, b) 중 큰 값을 출력\n",
    "a,b=input().split()\n",
    "a=int(a)\n",
    "b=int(b)\n",
    "print( a if(a > b) else b)"
   ]
  },
  {
   "cell_type": "code",
   "execution_count": 52,
   "metadata": {},
   "outputs": [
    {
     "name": "stdout",
     "output_type": "stream",
     "text": [
      "-1\n",
      "-1\n"
     ]
    }
   ],
   "source": [
    "#입력된 세 정수 a, b, c 중 가장 작은 값을 출력\n",
    "a,b,c=input().split()\n",
    "a=int(a)\n",
    "b=int(b)\n",
    "c=int(c)\n",
    "\n",
    "x= a if a<b else b\n",
    "y= x if x<c else c\n",
    "print(y)\n",
    "print((b if a>b else a) if ((b if a>b else a))<c else c) #가장 작은 수\n",
    "#3 -1 5"
   ]
  },
  {
   "cell_type": "code",
   "execution_count": 53,
   "metadata": {},
   "outputs": [
    {
     "name": "stdout",
     "output_type": "stream",
     "text": [
      "2\n",
      "4\n"
     ]
    }
   ],
   "source": [
    "#3개의 정수(a, b, c)가 입력되었을 때, 짝수만 출력\n",
    "\n",
    "a,b,c=input().split()\n",
    "a=int(a)\n",
    "b=int(b)\n",
    "c=int(c)\n",
    "if a % 2 ==0:\n",
    "    print(a)\n",
    "if b % 2==0:\n",
    "    print(b)\n",
    "if c % 2 ==0:\n",
    "    print(c)\n",
    "# 1 2 4\n"
   ]
  },
  {
   "cell_type": "code",
   "execution_count": 58,
   "metadata": {},
   "outputs": [
    {
     "name": "stdout",
     "output_type": "stream",
     "text": [
      "A\n"
     ]
    }
   ],
   "source": [
    "#0이 아닌 정수 1개가 입력되었을 때, 음(-)/양(+)과 짝(even)/홀(odd)을 구분\n",
    "#음수이면서 짝수이면, A\n",
    "#음수이면서 홀수이면, B\n",
    "#양수이면서 짝수이면, C\n",
    "#양수이면서 홀수이면, D\n",
    "\n",
    "a=int(input())\n",
    "\n",
    "if a % 2 ==0:\n",
    "    if a>0:\n",
    "       print(\"C\")\n",
    "    else:\n",
    "        print(\"A\")\n",
    "elif a>0:\n",
    "    print(\"D\")\n",
    "else:\n",
    "    print(\"B\")\n",
    "\n",
    "\n",
    "\n"
   ]
  },
  {
   "cell_type": "code",
   "execution_count": 59,
   "metadata": {},
   "outputs": [
    {
     "name": "stdout",
     "output_type": "stream",
     "text": [
      "B\n"
     ]
    }
   ],
   "source": [
    "#점수(정수, 0 ~ 100)를 입력받아 평가를 출력해보자.\n",
    "\n",
    "#평가 기준\n",
    "#점수 범위 : 평가\n",
    "# 90 ~ 100 : A\n",
    "# 70 ~   89 : B\n",
    "# 40 ~   69 : C\n",
    "#   0 ~   39 : D\n",
    "\n",
    "a=int(input())\n",
    "if a>=90 and a<=100:\n",
    "    print('A')\n",
    "elif a>=70 and a<90:\n",
    "    print('B')\n",
    "elif a>=40 and a<70:\n",
    "    print('C')\n",
    "else :\n",
    "    print('D')\n"
   ]
  },
  {
   "cell_type": "code",
   "execution_count": 62,
   "metadata": {},
   "outputs": [
    {
     "name": "stdout",
     "output_type": "stream",
     "text": [
      "slowly~\n"
     ]
    }
   ],
   "source": [
    "\n",
    "# 평가를 문자(A, B, C, D, ...)로 입력받아 내용을 다르게 출력해보자.\n",
    "\n",
    "# 평가 내용\n",
    "# 평가 : 내용\n",
    "# A : best!!!\n",
    "# B : good!!\n",
    "# C : run!\n",
    "# D : slowly~\n",
    "# 나머지 문자들 : what?\n",
    "\n",
    "a=input()\n",
    "if a==\"A\":\n",
    "    print(\"best!!!\")\n",
    "elif a==\"B\":\n",
    "    print(\"good!!\")\n",
    "elif a==\"C\":\n",
    "    print(\"run!\")\n",
    "elif a==\"D\":\n",
    "    print(\"slowly~\")\n",
    "else:\n",
    "    print(\"what?\")\n",
    "\n",
    "\n",
    "\n"
   ]
  },
  {
   "cell_type": "code",
   "execution_count": 68,
   "metadata": {},
   "outputs": [
    {
     "name": "stdout",
     "output_type": "stream",
     "text": [
      "winter\n",
      "winter\n"
     ]
    }
   ],
   "source": [
    "# 월이 입력될 때 계절 이름이 출력되도록 해보자.\n",
    "\n",
    "# 월 : 계절 이름\n",
    "# 12, 1, 2 : winter\n",
    "#   3, 4, 5 : spring\n",
    "#   6, 7, 8 : summer\n",
    "#   9, 10, 11 : fall\n",
    "\n",
    "a=int(input())\n",
    "if a==12 or a==1 or a==2:\n",
    "    print(\"winter\")\n",
    "elif a==3 or a==4 or a==5:\n",
    "    print(\"spring\")\n",
    "elif a==6 or a==7 or a==8:\n",
    "    print(\"summer\")\n",
    "else:\n",
    "    print(\"fall\")\n",
    "\n",
    "if a//3==1:\n",
    "    print(\"spring\")\n",
    "elif a//3==2:\n",
    "    print(\"summer\")\n",
    "elif a//3==3:\n",
    "    print(\"fall\")\n",
    "else:\n",
    "    print(\"winter\")"
   ]
  },
  {
   "cell_type": "code",
   "execution_count": 69,
   "metadata": {},
   "outputs": [
    {
     "name": "stdout",
     "output_type": "stream",
     "text": [
      "3\n",
      "5\n",
      "7\n",
      "9\n",
      "10\n"
     ]
    }
   ],
   "source": [
    "#0이 아니면 입력된 정수를 출력하고, 0이 입력되면 출력을 중단\n",
    "a=int(input())\n",
    "while int(a) != 0:\n",
    "    print(a)\n",
    "    a=input()\n",
    "if a==0:\n",
    "    print()\n",
    "\n",
    "#이것도 가능\n",
    "# while True:\n",
    "#     a=input()\n",
    "#     a=int(a)\n",
    "#     if a==0:\n",
    "#         break\n",
    "#     else:\n",
    "#         print(a)\n"
   ]
  },
  {
   "cell_type": "code",
   "execution_count": 72,
   "metadata": {},
   "outputs": [
    {
     "name": "stdout",
     "output_type": "stream",
     "text": [
      "5\n",
      "4\n",
      "3\n",
      "2\n",
      "1\n"
     ]
    }
   ],
   "source": [
    "#정수(1 ~ 100) 1개가 입력되었을 때 카운트다운을 출력(5입력)\n",
    "\n",
    "a=int(input())\n",
    "while a>0:\n",
    "    print(a)\n",
    "    a=a-1\n",
    "    if a==0:\n",
    "        break\n",
    "\n",
    "#이것도!  \n",
    "# while a!=0:\n",
    "#     print(a)\n",
    "#     a=a-1"
   ]
  },
  {
   "cell_type": "code",
   "execution_count": 75,
   "metadata": {},
   "outputs": [
    {
     "name": "stdout",
     "output_type": "stream",
     "text": [
      "4\n",
      "3\n",
      "2\n",
      "1\n",
      "0\n"
     ]
    }
   ],
   "source": [
    "#정수(1 ~ 100) 1개가 입력되었을 때 카운트다운을 출력(5 입력)\n",
    "\n",
    "a=int(input())\n",
    "while a>0 :\n",
    "    a=a-1\n",
    "    print(a)\n",
    "    "
   ]
  },
  {
   "cell_type": "code",
   "execution_count": 84,
   "metadata": {},
   "outputs": [
    {
     "name": "stdout",
     "output_type": "stream",
     "text": [
      "a b c d e f "
     ]
    }
   ],
   "source": [
    "# 영문 소문자(a ~ z) 1개가 입력되었을 때,\n",
    "# a부터 그 문자까지의 알파벳을 순서대로 출력해보자\n",
    "\n",
    "b=ord(input()) #A입력하면 a는 65(문자->정수)\n",
    "a=ord('a') #a는 97번\n",
    "\n",
    "while a<=b:\n",
    "    print(chr(a),end=' ') #end는 마지막에 줄을 바꾸지 말고 출력하라는 의미\n",
    "    a +=1\n",
    "\n",
    "#f입력\n",
    "\n"
   ]
  },
  {
   "cell_type": "code",
   "execution_count": 85,
   "metadata": {},
   "outputs": [
    {
     "name": "stdout",
     "output_type": "stream",
     "text": [
      "0\n",
      "1\n",
      "2\n",
      "3\n",
      "4\n"
     ]
    }
   ],
   "source": [
    "#정수(0 ~ 100) 1개를 입력받아 0부터 그 수까지 순서대로 출력\n",
    "\n",
    "a=int(input())\n",
    "b=0\n",
    "while b<=a:\n",
    "    print(b)\n",
    "    b += 1\n",
    "    \n",
    "#4입력"
   ]
  },
  {
   "cell_type": "code",
   "execution_count": 87,
   "metadata": {},
   "outputs": [
    {
     "name": "stdout",
     "output_type": "stream",
     "text": [
      "0\n",
      "1\n",
      "2\n",
      "3\n",
      "4\n"
     ]
    }
   ],
   "source": [
    "#정수(0 ~ 100) 1개를 입력받아 0부터 그 수까지 순서대로 출력(for문 사용)\n",
    "\n",
    "a=int(input())\n",
    "\n",
    "for i in range(0,a+1):\n",
    "    print(i)\n",
    "    \n",
    "#4입력\n"
   ]
  },
  {
   "cell_type": "code",
   "execution_count": null,
   "metadata": {},
   "outputs": [],
   "source": []
  },
  {
   "cell_type": "code",
   "execution_count": null,
   "metadata": {},
   "outputs": [],
   "source": []
  },
  {
   "cell_type": "code",
   "execution_count": null,
   "metadata": {},
   "outputs": [],
   "source": []
  }
 ],
 "metadata": {
  "kernelspec": {
   "display_name": "Python 3",
   "language": "python",
   "name": "python3"
  },
  "language_info": {
   "codemirror_mode": {
    "name": "ipython",
    "version": 3
   },
   "file_extension": ".py",
   "mimetype": "text/x-python",
   "name": "python",
   "nbconvert_exporter": "python",
   "pygments_lexer": "ipython3",
   "version": "3.12.3"
  }
 },
 "nbformat": 4,
 "nbformat_minor": 2
}
