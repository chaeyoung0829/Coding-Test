{
 "cells": [
  {
   "cell_type": "code",
   "execution_count": 3,
   "metadata": {},
   "outputs": [
    {
     "name": "stdout",
     "output_type": "stream",
     "text": [
      "Hello\n",
      " World!\n"
     ]
    }
   ],
   "source": [
    "print(\"Hello\\n World!\") #print문 두 개 써도 OK"
   ]
  },
  {
   "cell_type": "code",
   "execution_count": 4,
   "metadata": {},
   "outputs": [
    {
     "name": "stdout",
     "output_type": "stream",
     "text": [
      "'Hello'\n"
     ]
    }
   ],
   "source": [
    "print(\"'Hello'\") #작은 따옴표(')(single quotation mark)"
   ]
  },
  {
   "cell_type": "code",
   "execution_count": 6,
   "metadata": {},
   "outputs": [
    {
     "name": "stdout",
     "output_type": "stream",
     "text": [
      "\"Hello World\"\n"
     ]
    }
   ],
   "source": [
    "print('\"Hello World\"')"
   ]
  },
  {
   "cell_type": "code",
   "execution_count": 7,
   "metadata": {},
   "outputs": [
    {
     "name": "stdout",
     "output_type": "stream",
     "text": [
      "\"!@#$%^&*()'\n"
     ]
    }
   ],
   "source": [
    "print(\"\\\"!@#$%^&*()\\'\")"
   ]
  },
  {
   "cell_type": "code",
   "execution_count": 10,
   "metadata": {},
   "outputs": [
    {
     "name": "stdout",
     "output_type": "stream",
     "text": [
      "C:\\Download\\'hello'.py\n"
     ]
    }
   ],
   "source": [
    "print(\"\\\"C:\\\\Download\\\\'hello'.py\\\"\")"
   ]
  },
  {
   "cell_type": "code",
   "execution_count": 18,
   "metadata": {},
   "outputs": [
    {
     "name": "stdout",
     "output_type": "stream",
     "text": [
      "\"C:\\Download\\'hello\\'.py\"\n"
     ]
    }
   ],
   "source": [
    "print(r'\"C:\\Download\\'hello\\'.py\"') \n",
    "# r을 붙여서 생짜 문자로 이해하라는 명령\n"
   ]
  },
  {
   "cell_type": "code",
   "execution_count": 22,
   "metadata": {},
   "outputs": [
    {
     "name": "stdout",
     "output_type": "stream",
     "text": [
      "Hello\\nWorld\n"
     ]
    }
   ],
   "source": [
    "print(\"Hello\\\\nWorld\")"
   ]
  },
  {
   "cell_type": "code",
   "execution_count": 26,
   "metadata": {},
   "outputs": [
    {
     "name": "stdout",
     "output_type": "stream",
     "text": [
      "print(\"Hello\\nWorld\")\n",
      "print(\"Hello\\nWorld\")\n"
     ]
    }
   ],
   "source": [
    "print('''print(\"Hello\\\\nWorld\")''') #\\는 문자 그대로를 출력하라는 의미\n",
    "print(\"print(\\\"Hello\\\\nWorld\\\")\")\n"
   ]
  },
  {
   "cell_type": "code",
   "execution_count": 33,
   "metadata": {},
   "outputs": [
    {
     "name": "stdout",
     "output_type": "stream",
     "text": [
      "이름: 김채영 번호: 32\n"
     ]
    }
   ],
   "source": [
    "name = input(\"이름:\")\n",
    "num = input(\"번호:\")\n",
    "print(\"이름:\",name, \"번호:\",num)"
   ]
  },
  {
   "cell_type": "code",
   "execution_count": 36,
   "metadata": {},
   "outputs": [
    {
     "name": "stdout",
     "output_type": "stream",
     "text": [
      "3\n"
     ]
    }
   ],
   "source": [
    "n=input() #c에서는 그냥 int a \n",
    "n=int(n)\n",
    "print(n)\n",
    "\n",
    "#c에서는\n",
    "#int a;\n",
    "#scanf(\"%d\", &a);\n",
    "#printf(a)"
   ]
  },
  {
   "cell_type": "code",
   "execution_count": 40,
   "metadata": {},
   "outputs": [
    {
     "name": "stdout",
     "output_type": "stream",
     "text": [
      "3.3\n"
     ]
    }
   ],
   "source": [
    "a=input()\n",
    "print(float(a))\n"
   ]
  },
  {
   "cell_type": "code",
   "execution_count": 44,
   "metadata": {},
   "outputs": [
    {
     "name": "stdout",
     "output_type": "stream",
     "text": [
      "1\n",
      "2\n"
     ]
    }
   ],
   "source": [
    "a=input()\n",
    "b=input()\n",
    "print(int(a))\n",
    "print(int(b))"
   ]
  },
  {
   "cell_type": "code",
   "execution_count": 48,
   "metadata": {},
   "outputs": [
    {
     "name": "stdout",
     "output_type": "stream",
     "text": [
      "a\n",
      "b\n"
     ]
    }
   ],
   "source": [
    "a=input()\n",
    "b=input()\n",
    "print(str(b))\n",
    "print(str(a))"
   ]
  },
  {
   "cell_type": "code",
   "execution_count": 51,
   "metadata": {},
   "outputs": [
    {
     "name": "stdout",
     "output_type": "stream",
     "text": [
      "0.1\n",
      "0.1\n",
      "0.1\n",
      "0.1\n",
      "0.1\n"
     ]
    }
   ],
   "source": [
    "f=input()\n",
    "for i in range(5) :\n",
    "    print(float(f))"
   ]
  },
  {
   "cell_type": "code",
   "execution_count": 55,
   "metadata": {},
   "outputs": [
    {
     "name": "stdout",
     "output_type": "stream",
     "text": [
      "1.2\n",
      "4\n"
     ]
    }
   ],
   "source": [
    "a,b=input().split()\n",
    "print(a)\n",
    "print(b)"
   ]
  },
  {
   "cell_type": "code",
   "execution_count": 59,
   "metadata": {},
   "outputs": [
    {
     "name": "stdout",
     "output_type": "stream",
     "text": [
      "b a\n"
     ]
    }
   ],
   "source": [
    "a,b=input().split()\n",
    "print(b,a)"
   ]
  },
  {
   "cell_type": "code",
   "execution_count": 60,
   "metadata": {},
   "outputs": [
    {
     "name": "stdout",
     "output_type": "stream",
     "text": [
      "a a a\n"
     ]
    }
   ],
   "source": [
    "a=input()\n",
    "print(a,a,a)\n"
   ]
  },
  {
   "cell_type": "code",
   "execution_count": 67,
   "metadata": {},
   "outputs": [
    {
     "name": "stdout",
     "output_type": "stream",
     "text": [
      "3:14\n"
     ]
    }
   ],
   "source": [
    "a,b=input().split(':')\n",
    "print(a,b,sep=':')\n",
    "#sep은 seperator를 의미하므로 콜론(:)기호를 사이에 두고 값 출력"
   ]
  },
  {
   "cell_type": "code",
   "execution_count": 69,
   "metadata": {},
   "outputs": [
    {
     "name": "stdout",
     "output_type": "stream",
     "text": [
      "4-3-2020\n"
     ]
    }
   ],
   "source": [
    "y,m,d=input().split('.')\n",
    "print(d,m,y,sep='-')\n",
    "#2020.3.4입력함"
   ]
  },
  {
   "cell_type": "code",
   "execution_count": 74,
   "metadata": {},
   "outputs": [
    {
     "name": "stdout",
     "output_type": "stream",
     "text": [
      "0009071121112\n"
     ]
    }
   ],
   "source": [
    "a,b=input().split('-')\n",
    "print(a+b)\n",
    "#그냥 print(a,b)하면 둘 사이 공백이 생김"
   ]
  },
  {
   "cell_type": "code",
   "execution_count": 75,
   "metadata": {},
   "outputs": [
    {
     "name": "stdout",
     "output_type": "stream",
     "text": [
      "0009071121112\n"
     ]
    }
   ],
   "source": [
    "a, b = input().split('-')\n",
    "print(a,b,sep='')\n",
    "#이렇게도 가능\n",
    "#이 경우 a와 b 사이에 아무 것도 삽입되지 않아서, 두 문자열이 바로 이어서 출력됨\n"
   ]
  },
  {
   "cell_type": "code",
   "execution_count": 79,
   "metadata": {},
   "outputs": [
    {
     "name": "stdout",
     "output_type": "stream",
     "text": [
      "H\n",
      "e\n",
      "l\n",
      "l\n",
      "o\n"
     ]
    }
   ],
   "source": [
    "a=input()\n",
    "for i in range(len(a)) : #그냥 a하면 문자라서 안됨\n",
    "    print(a[i])"
   ]
  },
  {
   "cell_type": "code",
   "execution_count": 85,
   "metadata": {},
   "outputs": [
    {
     "name": "stdout",
     "output_type": "stream",
     "text": [
      "20 03 04\n",
      "20 03 04\n"
     ]
    }
   ],
   "source": [
    "#200304입력\n",
    "a=input()\n",
    "print(a[0:2],a[2:4],a[4:6])\n",
    "print(a[0:2], a[2:4], a[4:6], sep=' ')\n",
    "#sep=' '를 명시적으로 지정하면, 각 인수 사이에 공백을 삽입"
   ]
  },
  {
   "cell_type": "code",
   "execution_count": 86,
   "metadata": {},
   "outputs": [
    {
     "name": "stdout",
     "output_type": "stream",
     "text": [
      "23\n"
     ]
    }
   ],
   "source": [
    "#03:23:55입력\n",
    "a,b,c=input().split(':')\n",
    "print(b)"
   ]
  },
  {
   "cell_type": "code",
   "execution_count": 87,
   "metadata": {},
   "outputs": [
    {
     "name": "stdout",
     "output_type": "stream",
     "text": [
      "helloworld\n"
     ]
    }
   ],
   "source": [
    "#hello world입력\n",
    "a,b=input().split()\n",
    "print(a+b)"
   ]
  },
  {
   "cell_type": "code",
   "execution_count": null,
   "metadata": {},
   "outputs": [],
   "source": []
  },
  {
   "cell_type": "code",
   "execution_count": null,
   "metadata": {},
   "outputs": [],
   "source": []
  }
 ],
 "metadata": {
  "kernelspec": {
   "display_name": "Python 3",
   "language": "python",
   "name": "python3"
  },
  "language_info": {
   "codemirror_mode": {
    "name": "ipython",
    "version": 3
   },
   "file_extension": ".py",
   "mimetype": "text/x-python",
   "name": "python",
   "nbconvert_exporter": "python",
   "pygments_lexer": "ipython3",
   "version": "3.12.3"
  }
 },
 "nbformat": 4,
 "nbformat_minor": 2
}
