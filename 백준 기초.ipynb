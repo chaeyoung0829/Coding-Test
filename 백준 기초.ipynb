{
 "cells": [
  {
   "cell_type": "code",
   "execution_count": 6,
   "metadata": {},
   "outputs": [
    {
     "name": "stdout",
     "output_type": "stream",
     "text": [
      "10\n",
      "4\n",
      "21\n",
      "2\n",
      "1\n"
     ]
    }
   ],
   "source": [
    "a,b=map(int,input().split())\n",
    "print(a+b)\n",
    "print(a-b)\n",
    "print(a*b)\n",
    "print(a//b)\n",
    "print(a%b)\n"
   ]
  },
  {
   "cell_type": "code",
   "execution_count": 9,
   "metadata": {},
   "outputs": [
    {
     "name": "stdout",
     "output_type": "stream",
     "text": [
      "joonas??!\n"
     ]
    }
   ],
   "source": [
    "a=input()\n",
    "print(a,'??!',sep='')"
   ]
  },
  {
   "cell_type": "code",
   "execution_count": 11,
   "metadata": {},
   "outputs": [
    {
     "name": "stdout",
     "output_type": "stream",
     "text": [
      "1\n",
      "1\n",
      "0\n",
      "0\n"
     ]
    }
   ],
   "source": [
    "a,b,c=map(int,input().split())\n",
    "\n",
    "print((a+b)%c)\n",
    "print(((a%c)+(b%c))%c)\n",
    "print((a*b)%c)\n",
    "print(((a%c)*(b%c))%c)\n",
    "\n"
   ]
  },
  {
   "cell_type": "code",
   "execution_count": 15,
   "metadata": {},
   "outputs": [
    {
     "name": "stdout",
     "output_type": "stream",
     "text": [
      "2360\n",
      "3776\n",
      "1416\n",
      "181720\n"
     ]
    }
   ],
   "source": [
    "#세자릿수 곱하기\n",
    "a=int(input())\n",
    "b=int(input())\n",
    "\n",
    "for i in str(b)[::-1]: #b의 자릿수 하나하나를 거꾸로 처리\n",
    "    print(a*int(i)) # a와 해당 자릿수를 곱한 결과 출력\n",
    "print(a*b)\n",
    "\n",
    "#472\n",
    "#385\n",
    "\n"
   ]
  },
  {
   "cell_type": "code",
   "execution_count": 27,
   "metadata": {},
   "outputs": [
    {
     "name": "stdout",
     "output_type": "stream",
     "text": [
      "|\\_/|\n",
      "|q p|   /}\n",
      "( 0 )\"\"\"\\\n",
      "|\"^\"`   |\n",
      "||_/=\\\\__|\n"
     ]
    }
   ],
   "source": [
    "print(\"|\\\\_/|\")\n",
    "print(\"|q p|   /}\")\n",
    "print(\"( 0 )\\\"\\\"\\\"\\\\\")\n",
    "print(\"|\\\"^\\\"`   |\")\n",
    "print(\"||_/=\\\\\\\\__|\")"
   ]
  },
  {
   "cell_type": "code",
   "execution_count": 41,
   "metadata": {},
   "outputs": [
    {
     "name": "stdout",
     "output_type": "stream",
     "text": [
      "\\    /\\\n",
      " )  ( ')\n",
      "(  /  )\n",
      " \\(__)|\n"
     ]
    }
   ],
   "source": [
    "print(\"\\\\    /\\\\\")\n",
    "print(\" )  ( ')\")\n",
    "print(\"(  /  )\")\n",
    "print(\" \\\\(__)|\")\n"
   ]
  },
  {
   "cell_type": "code",
   "execution_count": 47,
   "metadata": {},
   "outputs": [
    {
     "name": "stdout",
     "output_type": "stream",
     "text": [
      "D\n"
     ]
    }
   ],
   "source": [
    "\n",
    "\n",
    "a=int(input())\n",
    "\n",
    "if a>=90 and a<=100:\n",
    "    print('A')\n",
    "elif a>= 80 and a < 90:\n",
    "    print('B')\n",
    "elif a>= 70 and a<80:\n",
    "    print('C')\n",
    "elif a>=60 and a<70:\n",
    "    print('D')\n",
    "else:\n",
    "    print('F')\n",
    "\n"
   ]
  },
  {
   "cell_type": "code",
   "execution_count": 50,
   "metadata": {},
   "outputs": [
    {
     "name": "stdout",
     "output_type": "stream",
     "text": [
      "1\n"
     ]
    }
   ],
   "source": [
    "#연도가 주어졌을 때, 윤년이면 1, 아니면 0을 출력하는 프로그램\n",
    "\n",
    "a=int(input())\n",
    "\n",
    "if a % 4==0 and a%100 != 0:\n",
    "    print('1') #윤년\n",
    "elif a%4 ==0 and a%400 ==0:\n",
    "    print('1')\n",
    "else:\n",
    "    print('0')\n",
    "#2000"
   ]
  },
  {
   "cell_type": "code",
   "execution_count": 53,
   "metadata": {},
   "outputs": [
    {
     "name": "stdout",
     "output_type": "stream",
     "text": [
      "4\n"
     ]
    }
   ],
   "source": [
    "#좌표 입력하고 사분면 출력\n",
    "\n",
    "x=int(input())\n",
    "y=int(input())\n",
    "\n",
    "if x>0:\n",
    "   if y>0:\n",
    "      print('1')\n",
    "   else:\n",
    "      print('4')\n",
    "elif x<0:\n",
    "   if y>0:\n",
    "      print('2')\n",
    "   else:\n",
    "      print('3')  \n",
    "#9\n",
    "#-13"
   ]
  },
  {
   "cell_type": "code",
   "execution_count": 79,
   "metadata": {},
   "outputs": [
    {
     "name": "stdout",
     "output_type": "stream",
     "text": [
      "0 1\n"
     ]
    }
   ],
   "source": [
    "#원래 설정되어 있는 알람을 45분 앞서는 시간으로 바꾸기\n",
    "\n",
    "a,b=map(int,input().split()) \n",
    "\n",
    "if b-45 <0:\n",
    "    a -= 1\n",
    "    b= b+60-45\n",
    "    if a< 0:\n",
    "        a=23\n",
    "else:\n",
    "    b -= 45\n",
    "\n",
    "print(a,b,sep=' ')\n",
    "\n",
    "#0 46\n",
    "\n",
    "\n"
   ]
  },
  {
   "cell_type": "code",
   "execution_count": 91,
   "metadata": {},
   "outputs": [
    {
     "name": "stdout",
     "output_type": "stream",
     "text": [
      "14 50\n"
     ]
    }
   ],
   "source": [
    "#훈제오리구이를 시작하는 시각과 오븐구이를 하는 데 필요한 시간이 분단위로 주어졌을 때, 오븐구이가 끝나는 시각을 계산하는 프로그램\n",
    "\n",
    "a,b=map(int,input().split())\n",
    "c=int(input())\n",
    "\n",
    "b += c\n",
    "while b >= 60:\n",
    "    b -= 60\n",
    "    a += 1\n",
    "if a>= 24:\n",
    "    a -= 24\n",
    "\n",
    "print(a, b)\n",
    "\n",
    "# 14 30\n",
    "# 20\n",
    "\n"
   ]
  },
  {
   "cell_type": "code",
   "execution_count": 1,
   "metadata": {},
   "outputs": [
    {
     "name": "stdout",
     "output_type": "stream",
     "text": [
      "600\n"
     ]
    }
   ],
   "source": [
    "# 1에서부터 6까지의 눈을 가진 3개의 주사위를 던져서 다음과 같은 규칙에 따라 상금을 받는 게임이 있다.\n",
    "\n",
    "# 같은 눈이 3개가 나오면 10,000원+(같은 눈)×1,000원의 상금을 받게 된다.\n",
    "# 같은 눈이 2개만 나오는 경우에는 1,000원+(같은 눈)×100원의 상금을 받게 된다.\n",
    "# 모두 다른 눈이 나오는 경우에는 (그 중 가장 큰 눈)×100원의 상금을 받게 된다.\n",
    "\n",
    "a,b,c=map(int,input().split())\n",
    "\n",
    "if a == b ==c:\n",
    "    print(10000+a*1000)\n",
    "\n",
    "elif a==b and c != a:\n",
    "    print(1000+a*100)\n",
    "\n",
    "elif a==c and b !=a:\n",
    "    print(1000+a*100)\n",
    "\n",
    "elif b==c and a != b:\n",
    "    print(1000+b*100)\n",
    "\n",
    "elif a != b and b != c and a != c:\n",
    "  largest = max(a, b, c) #여기서 절대 max=0이라고 하면 안됨(0이라고 하니까 오류남-> restart해야 함)\n",
    "  print(largest*100)\n",
    "\n",
    "#6 2 5\n",
    "\n"
   ]
  },
  {
   "cell_type": "code",
   "execution_count": 4,
   "metadata": {},
   "outputs": [
    {
     "name": "stdout",
     "output_type": "stream",
     "text": [
      "9 * 1 = 9\n",
      "9 * 2 = 18\n",
      "9 * 3 = 27\n",
      "9 * 4 = 36\n",
      "9 * 5 = 45\n",
      "9 * 6 = 54\n",
      "9 * 7 = 63\n",
      "9 * 8 = 72\n",
      "9 * 9 = 81\n"
     ]
    }
   ],
   "source": [
    "#N을 입력받은 뒤, 구구단 N단을 출력하는 프로그램\n",
    "\n",
    "N=int(input())\n",
    "\n",
    "for i in range(1,10):\n",
    "    print(N, '*', i,'=',N*i)\n",
    "\n"
   ]
  },
  {
   "cell_type": "code",
   "execution_count": 8,
   "metadata": {},
   "outputs": [
    {
     "name": "stdout",
     "output_type": "stream",
     "text": [
      "2\n",
      "5\n",
      "7\n",
      "17\n",
      "7\n"
     ]
    }
   ],
   "source": [
    "# 두 정수 A와 B를 입력받은 다음, A+B를 출력하는 프로그램\n",
    "# 첫째 줄에 테스트 케이스의 개수 T가 주어진다.\n",
    "\n",
    "# 각 테스트 케이스는 한 줄로 이루어져 있으며, 각 줄에 A와 B가 주어진다. (0 < A, B < 10)\n",
    "\n",
    "\n",
    "#이렇게 하면 안됨(이렇게 하면 맨 마지막에 있던 a,b로만 출력된)\n",
    "# T=int(input())\n",
    "# for i in range(T):\n",
    "#     a,b=map(int,input().split())\n",
    "\n",
    "# for i in range(T):\n",
    "#     print(a+b)\n",
    "\n",
    "# 7\n",
    "# 7\n",
    "# 7\n",
    "# 7\n",
    "# 7\n",
    "\n",
    "#입력\n",
    "# 5\n",
    "# 1 1\n",
    "# 2 3\n",
    "# 3 4\n",
    "# 9 8\n",
    "# 5 2\n",
    "\n",
    "T=int(input())\n",
    "c=[] #결과 저장\n",
    "for _ in range(T):\n",
    "    a,b=map(int,input().split())\n",
    "    c.append(a+b)\n",
    "\n",
    "for i in c: #리스트 하나씩 출력\n",
    "    print(i)\n",
    "\n",
    "# 2\n",
    "# 5\n",
    "# 7\n",
    "# 17\n",
    "# 7\n",
    "    \n",
    "\n",
    "\n"
   ]
  },
  {
   "cell_type": "code",
   "execution_count": null,
   "metadata": {},
   "outputs": [],
   "source": []
  },
  {
   "cell_type": "code",
   "execution_count": null,
   "metadata": {},
   "outputs": [],
   "source": []
  },
  {
   "cell_type": "code",
   "execution_count": null,
   "metadata": {},
   "outputs": [],
   "source": []
  },
  {
   "cell_type": "code",
   "execution_count": null,
   "metadata": {},
   "outputs": [],
   "source": []
  },
  {
   "cell_type": "code",
   "execution_count": null,
   "metadata": {},
   "outputs": [],
   "source": []
  },
  {
   "cell_type": "code",
   "execution_count": null,
   "metadata": {},
   "outputs": [],
   "source": []
  }
 ],
 "metadata": {
  "kernelspec": {
   "display_name": "Python 3",
   "language": "python",
   "name": "python3"
  },
  "language_info": {
   "codemirror_mode": {
    "name": "ipython",
    "version": 3
   },
   "file_extension": ".py",
   "mimetype": "text/x-python",
   "name": "python",
   "nbconvert_exporter": "python",
   "pygments_lexer": "ipython3",
   "version": "3.12.3"
  }
 },
 "nbformat": 4,
 "nbformat_minor": 2
}
