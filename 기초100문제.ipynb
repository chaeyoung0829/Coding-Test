{
 "cells": [
  {
   "cell_type": "code",
   "execution_count": 3,
   "metadata": {},
   "outputs": [
    {
     "name": "stdout",
     "output_type": "stream",
     "text": [
      "Hello\n",
      " World!\n"
     ]
    }
   ],
   "source": [
    "print(\"Hello\\n World!\") #print문 두 개 써도 OK"
   ]
  },
  {
   "cell_type": "code",
   "execution_count": 4,
   "metadata": {},
   "outputs": [
    {
     "name": "stdout",
     "output_type": "stream",
     "text": [
      "'Hello'\n"
     ]
    }
   ],
   "source": [
    "print(\"'Hello'\") #작은 따옴표(')(single quotation mark)"
   ]
  },
  {
   "cell_type": "code",
   "execution_count": 6,
   "metadata": {},
   "outputs": [
    {
     "name": "stdout",
     "output_type": "stream",
     "text": [
      "\"Hello World\"\n"
     ]
    }
   ],
   "source": [
    "print('\"Hello World\"')"
   ]
  },
  {
   "cell_type": "code",
   "execution_count": 7,
   "metadata": {},
   "outputs": [
    {
     "name": "stdout",
     "output_type": "stream",
     "text": [
      "\"!@#$%^&*()'\n"
     ]
    }
   ],
   "source": [
    "print(\"\\\"!@#$%^&*()\\'\")"
   ]
  },
  {
   "cell_type": "code",
   "execution_count": 10,
   "metadata": {},
   "outputs": [
    {
     "name": "stdout",
     "output_type": "stream",
     "text": [
      "C:\\Download\\'hello'.py\n"
     ]
    }
   ],
   "source": [
    "print(\"\\\"C:\\\\Download\\\\'hello'.py\\\"\")"
   ]
  },
  {
   "cell_type": "code",
   "execution_count": 18,
   "metadata": {},
   "outputs": [
    {
     "name": "stdout",
     "output_type": "stream",
     "text": [
      "\"C:\\Download\\'hello\\'.py\"\n"
     ]
    }
   ],
   "source": [
    "print(r'\"C:\\Download\\'hello\\'.py\"') \n",
    "# r을 붙여서 생짜 문자로 이해하라는 명령\n"
   ]
  },
  {
   "cell_type": "code",
   "execution_count": 22,
   "metadata": {},
   "outputs": [
    {
     "name": "stdout",
     "output_type": "stream",
     "text": [
      "Hello\\nWorld\n"
     ]
    }
   ],
   "source": [
    "print(\"Hello\\\\nWorld\")"
   ]
  },
  {
   "cell_type": "code",
   "execution_count": 26,
   "metadata": {},
   "outputs": [
    {
     "name": "stdout",
     "output_type": "stream",
     "text": [
      "print(\"Hello\\nWorld\")\n",
      "print(\"Hello\\nWorld\")\n"
     ]
    }
   ],
   "source": [
    "print('''print(\"Hello\\\\nWorld\")''') #\\는 문자 그대로를 출력하라는 의미\n",
    "print(\"print(\\\"Hello\\\\nWorld\\\")\")\n"
   ]
  },
  {
   "cell_type": "code",
   "execution_count": 33,
   "metadata": {},
   "outputs": [
    {
     "name": "stdout",
     "output_type": "stream",
     "text": [
      "이름: 김채영 번호: 32\n"
     ]
    }
   ],
   "source": [
    "name = input(\"이름:\")\n",
    "num = input(\"번호:\")\n",
    "print(\"이름:\",name, \"번호:\",num)"
   ]
  },
  {
   "cell_type": "code",
   "execution_count": 36,
   "metadata": {},
   "outputs": [
    {
     "name": "stdout",
     "output_type": "stream",
     "text": [
      "3\n"
     ]
    }
   ],
   "source": [
    "n=input() #c에서는 그냥 int a \n",
    "n=int(n)\n",
    "print(n)\n",
    "\n",
    "#c에서는\n",
    "#int a;\n",
    "#scanf(\"%d\", &a);\n",
    "#printf(a)"
   ]
  },
  {
   "cell_type": "code",
   "execution_count": 40,
   "metadata": {},
   "outputs": [
    {
     "name": "stdout",
     "output_type": "stream",
     "text": [
      "3.3\n"
     ]
    }
   ],
   "source": [
    "a=input()\n",
    "print(float(a))\n"
   ]
  },
  {
   "cell_type": "code",
   "execution_count": 44,
   "metadata": {},
   "outputs": [
    {
     "name": "stdout",
     "output_type": "stream",
     "text": [
      "1\n",
      "2\n"
     ]
    }
   ],
   "source": [
    "a=input()\n",
    "b=input()\n",
    "print(int(a))\n",
    "print(int(b))"
   ]
  },
  {
   "cell_type": "code",
   "execution_count": 48,
   "metadata": {},
   "outputs": [
    {
     "name": "stdout",
     "output_type": "stream",
     "text": [
      "a\n",
      "b\n"
     ]
    }
   ],
   "source": [
    "a=input()\n",
    "b=input()\n",
    "print(str(b))\n",
    "print(str(a))"
   ]
  },
  {
   "cell_type": "code",
   "execution_count": 51,
   "metadata": {},
   "outputs": [
    {
     "name": "stdout",
     "output_type": "stream",
     "text": [
      "0.1\n",
      "0.1\n",
      "0.1\n",
      "0.1\n",
      "0.1\n"
     ]
    }
   ],
   "source": [
    "f=input()\n",
    "for i in range(5) :\n",
    "    print(float(f))"
   ]
  },
  {
   "cell_type": "code",
   "execution_count": 55,
   "metadata": {},
   "outputs": [
    {
     "name": "stdout",
     "output_type": "stream",
     "text": [
      "1.2\n",
      "4\n"
     ]
    }
   ],
   "source": [
    "a,b=input().split()\n",
    "print(a)\n",
    "print(b)"
   ]
  },
  {
   "cell_type": "code",
   "execution_count": 59,
   "metadata": {},
   "outputs": [
    {
     "name": "stdout",
     "output_type": "stream",
     "text": [
      "b a\n"
     ]
    }
   ],
   "source": [
    "a,b=input().split()\n",
    "print(b,a)"
   ]
  },
  {
   "cell_type": "code",
   "execution_count": 60,
   "metadata": {},
   "outputs": [
    {
     "name": "stdout",
     "output_type": "stream",
     "text": [
      "a a a\n"
     ]
    }
   ],
   "source": [
    "a=input()\n",
    "print(a,a,a)\n"
   ]
  },
  {
   "cell_type": "code",
   "execution_count": 1,
   "metadata": {},
   "outputs": [
    {
     "name": "stdout",
     "output_type": "stream",
     "text": [
      "3:14\n"
     ]
    }
   ],
   "source": [
    "a,b=input().split(':')\n",
    "print(a,b,sep=':')\n",
    "#sep은 seperator를 의미하므로 콜론(:)기호를 사이에 두고 값 출력"
   ]
  },
  {
   "cell_type": "code",
   "execution_count": 69,
   "metadata": {},
   "outputs": [
    {
     "name": "stdout",
     "output_type": "stream",
     "text": [
      "4-3-2020\n"
     ]
    }
   ],
   "source": [
    "y,m,d=input().split('.')\n",
    "print(d,m,y,sep='-')\n",
    "#2020.3.4입력함"
   ]
  },
  {
   "cell_type": "code",
   "execution_count": 74,
   "metadata": {},
   "outputs": [
    {
     "name": "stdout",
     "output_type": "stream",
     "text": [
      "0009071121112\n"
     ]
    }
   ],
   "source": [
    "a,b=input().split('-')\n",
    "print(a+b)\n",
    "#그냥 print(a,b)하면 둘 사이 공백이 생김"
   ]
  },
  {
   "cell_type": "code",
   "execution_count": 75,
   "metadata": {},
   "outputs": [
    {
     "name": "stdout",
     "output_type": "stream",
     "text": [
      "0009071121112\n"
     ]
    }
   ],
   "source": [
    "a, b = input().split('-')\n",
    "print(a,b,sep='')\n",
    "#이렇게도 가능\n",
    "#이 경우 a와 b 사이에 아무 것도 삽입되지 않아서, 두 문자열이 바로 이어서 출력됨\n"
   ]
  },
  {
   "cell_type": "code",
   "execution_count": 79,
   "metadata": {},
   "outputs": [
    {
     "name": "stdout",
     "output_type": "stream",
     "text": [
      "H\n",
      "e\n",
      "l\n",
      "l\n",
      "o\n"
     ]
    }
   ],
   "source": [
    "a=input()\n",
    "for i in range(len(a)) : #그냥 a하면 문자라서 안됨\n",
    "    print(a[i])"
   ]
  },
  {
   "cell_type": "code",
   "execution_count": 85,
   "metadata": {},
   "outputs": [
    {
     "name": "stdout",
     "output_type": "stream",
     "text": [
      "20 03 04\n",
      "20 03 04\n"
     ]
    }
   ],
   "source": [
    "#200304입력\n",
    "a=input()\n",
    "print(a[0:2],a[2:4],a[4:6])\n",
    "print(a[0:2], a[2:4], a[4:6], sep=' ')\n",
    "#sep=' '를 명시적으로 지정하면, 각 인수 사이에 공백을 삽입"
   ]
  },
  {
   "cell_type": "code",
   "execution_count": 86,
   "metadata": {},
   "outputs": [
    {
     "name": "stdout",
     "output_type": "stream",
     "text": [
      "23\n"
     ]
    }
   ],
   "source": [
    "#03:23:55입력\n",
    "a,b,c=input().split(':')\n",
    "print(b)"
   ]
  },
  {
   "cell_type": "code",
   "execution_count": 87,
   "metadata": {},
   "outputs": [
    {
     "name": "stdout",
     "output_type": "stream",
     "text": [
      "helloworld\n"
     ]
    }
   ],
   "source": [
    "#hello world입력\n",
    "a,b=input().split()\n",
    "print(a+b)"
   ]
  },
  {
   "cell_type": "code",
   "execution_count": 3,
   "metadata": {},
   "outputs": [
    {
     "name": "stdout",
     "output_type": "stream",
     "text": [
      "0\n"
     ]
    }
   ],
   "source": [
    "a,b=input().split()\n",
    "c=int(a)+int(b)\n",
    "print(c)\n",
    "#입력은 123 -123"
   ]
  },
  {
   "cell_type": "code",
   "execution_count": 7,
   "metadata": {},
   "outputs": [
    {
     "name": "stdout",
     "output_type": "stream",
     "text": [
      "1.0\n"
     ]
    }
   ],
   "source": [
    "a=input()\n",
    "b=input()\n",
    "c=float(a)+float(b)\n",
    "print(c)"
   ]
  },
  {
   "cell_type": "code",
   "execution_count": 12,
   "metadata": {},
   "outputs": [
    {
     "name": "stdout",
     "output_type": "stream",
     "text": [
      "ff\n"
     ]
    }
   ],
   "source": [
    "#10진수를 입력받아 16진수(hexadecimal)로 출력해보자.\n",
    "a=input()\n",
    "n=int(a)\n",
    "print('%x'%n) #16진수(hexadecimal) / %o로 출력하면 8진수(octal) 문자열로 출력\n",
    "#입력은 255(16진수면 ff고 8진수면 377)"
   ]
  },
  {
   "cell_type": "code",
   "execution_count": 10,
   "metadata": {},
   "outputs": [
    {
     "name": "stdout",
     "output_type": "stream",
     "text": [
      "FF\n"
     ]
    }
   ],
   "source": [
    "a=input()\n",
    "n=int(a)\n",
    "print('%X'%n)"
   ]
  },
  {
   "cell_type": "code",
   "execution_count": 13,
   "metadata": {},
   "outputs": [
    {
     "name": "stdout",
     "output_type": "stream",
     "text": [
      "17\n"
     ]
    }
   ],
   "source": [
    "#16진수를 입력받아 8진수(octal)로 출력\n",
    "a=input()\n",
    "n=int(a,16) #력된 a를 16진수로 인식해 변수 n에 저장\n",
    "print('%o'%n)\n",
    "#f입력"
   ]
  },
  {
   "cell_type": "code",
   "execution_count": 15,
   "metadata": {},
   "outputs": [
    {
     "name": "stdout",
     "output_type": "stream",
     "text": [
      "65\n"
     ]
    }
   ],
   "source": [
    "#영문자 1개를 입력받아 10진수 유니코드(Unicode) 값으로 출력\n",
    "a=ord(input()) # #입력받은 문자를 10진수 유니코드 값으로 변환한 후, n에 저장\n",
    "#ord( ) 는 어떤 문자의 순서 위치(ordinal position) 값을 의미한다.  \n",
    "#실제로 각각의 문자들에는 연속된 정수 값이 순서에 따라 부여 되어 있다. A:65, B:66, C:67 .... \n",
    "print(a)\n",
    "#A입력"
   ]
  },
  {
   "cell_type": "code",
   "execution_count": 16,
   "metadata": {},
   "outputs": [
    {
     "name": "stdout",
     "output_type": "stream",
     "text": [
      "A\n"
     ]
    }
   ],
   "source": [
    "#10진 정수 1개를 입력받아 유니코드 문자로 출력(입력65)\n",
    "\n",
    "a=int(input())\n",
    "print(chr(a)) # 정수 값을 유니코드 문자(chracter)로 바꿔 출력\n",
    "\n",
    "#chr( )는 정수값->문자\n",
    "#ord( )는 문자->정수값\n"
   ]
  },
  {
   "cell_type": "code",
   "execution_count": 17,
   "metadata": {},
   "outputs": [
    {
     "name": "stdout",
     "output_type": "stream",
     "text": [
      "1\n"
     ]
    }
   ],
   "source": [
    "#입력된 정수의 부호를 바꿔 출력\n",
    "a=int(input())\n",
    "print(-a)"
   ]
  },
  {
   "cell_type": "code",
   "execution_count": 26,
   "metadata": {},
   "outputs": [
    {
     "name": "stdout",
     "output_type": "stream",
     "text": [
      "B\n"
     ]
    }
   ],
   "source": [
    "#문자 1개를 입력받아 그 다음 문자를 출력(A 입력)\n",
    "a=ord(input())\n",
    "print(chr(a+1))"
   ]
  },
  {
   "cell_type": "code",
   "execution_count": 31,
   "metadata": {},
   "outputs": [
    {
     "name": "stdout",
     "output_type": "stream",
     "text": [
      "246\n"
     ]
    }
   ],
   "source": [
    "#정수 2개(a, b)를 입력받아 a에서 b를 뺀 차를 출력하는 프로그램을 작성해보자.\n",
    "a,b=input().split()\n",
    "c=int(a)-int(b) #여기서 그냥 c=a-b하면 안됨\n",
    "print(c)\n",
    "#입력은 123 -123"
   ]
  },
  {
   "cell_type": "code",
   "execution_count": 33,
   "metadata": {},
   "outputs": [
    {
     "name": "stdout",
     "output_type": "stream",
     "text": [
      "1.0\n"
     ]
    }
   ],
   "source": [
    "#실수 2개(f1, f2)를 입력받아 곱을 출력하는 프로그램을 작성해보자.\n",
    "a,b=input().split() #input은 문자도 입력 가능\n",
    "c=float(a)*float(b)\n",
    "print(c)\n",
    "#0.5 2.0입력"
   ]
  },
  {
   "cell_type": "code",
   "execution_count": 36,
   "metadata": {},
   "outputs": [
    {
     "name": "stdout",
     "output_type": "stream",
     "text": [
      "lovelovelove\n"
     ]
    }
   ],
   "source": [
    "#단어와 반복 횟수를 입력받아 여러 번 출력\n",
    "a,b=input().split()\n",
    "print(a*int(b))\n",
    "#love 3입력\n"
   ]
  },
  {
   "cell_type": "code",
   "execution_count": 37,
   "metadata": {},
   "outputs": [
    {
     "name": "stdout",
     "output_type": "stream",
     "text": [
      " I love CS I love CS I love CS\n"
     ]
    }
   ],
   "source": [
    "#반복 횟수와 문장을 입력받아 여러 번 출력\n",
    "a=input()\n",
    "b=input()\n",
    "print(b*int(a))\n",
    "#3\n",
    "#I love CS\n"
   ]
  },
  {
   "cell_type": "code",
   "execution_count": 40,
   "metadata": {},
   "outputs": [
    {
     "name": "stdout",
     "output_type": "stream",
     "text": [
      "1024\n"
     ]
    }
   ],
   "source": [
    "#정수 2개(a, b)를 입력받아 a를 b번 곱한 거듭제곱을 출력하는 프로그램을 작성\n",
    "a,b=input().split()\n",
    "c=int(a)**int(b)\n",
    "print(c)\n",
    "# 2 10입력\n"
   ]
  },
  {
   "cell_type": "code",
   "execution_count": 41,
   "metadata": {},
   "outputs": [
    {
     "name": "stdout",
     "output_type": "stream",
     "text": [
      "16.0\n"
     ]
    }
   ],
   "source": [
    "#실수 2개(f1, f2)를 입력받아 f1을 f2번 거듭제곱한 값을 출력하는 프로그램을 작성\n",
    "a,b=input().split()\n",
    "c=float(a)**float(b)\n",
    "print(c)\n",
    "#4.0 2.0입력"
   ]
  },
  {
   "cell_type": "code",
   "execution_count": 43,
   "metadata": {},
   "outputs": [
    {
     "name": "stdout",
     "output_type": "stream",
     "text": [
      "3\n"
     ]
    }
   ],
   "source": [
    "#정수 2개(a, b) 를 입력받아 a를 b로 나눈 몫을 출력\n",
    "a,b=input().split()\n",
    "c=int(a)//int(b) \n",
    "print(c)\n",
    "#10 3 입력"
   ]
  },
  {
   "cell_type": "code",
   "execution_count": 44,
   "metadata": {},
   "outputs": [
    {
     "name": "stdout",
     "output_type": "stream",
     "text": [
      "1\n"
     ]
    }
   ],
   "source": [
    "#정수 2개(a, b) 를 입력받아 a를 b로 나눈 나머지를 출력\n",
    "a,b=input().split()\n",
    "c=int(a)%int(b)\n",
    "print(c)\n",
    "#10 3 입력"
   ]
  },
  {
   "cell_type": "code",
   "execution_count": 45,
   "metadata": {},
   "outputs": [
    {
     "name": "stdout",
     "output_type": "stream",
     "text": [
      "3.14\n"
     ]
    }
   ],
   "source": [
    "#실수 1개를 입력받아 소숫점 이하 두 번째 자리까지의 정확도로 반올림한 값을 출력\n",
    "a=float(input())\n",
    "print(format(a,\".2f\"))\n",
    "#3.141592"
   ]
  },
  {
   "cell_type": "code",
   "execution_count": 48,
   "metadata": {},
   "outputs": [
    {
     "name": "stdout",
     "output_type": "stream",
     "text": [
      "3.333\n"
     ]
    }
   ],
   "source": [
    "#실수 2개(f1, f2)를 입력받아 f1 을 f2 로 나눈 값을 출력해보자. \n",
    "#이 때 소숫점 넷째자리에서 반올림하여 무조건 소숫점 셋째 자리까지 출력한다.\n",
    "\n",
    "a,b=input().split()\n",
    "c=float(a)/float(b)\n",
    "print(format(c,\".3f\"))\n",
    "#10.0 3.0"
   ]
  },
  {
   "cell_type": "code",
   "execution_count": 52,
   "metadata": {},
   "outputs": [
    {
     "name": "stdout",
     "output_type": "stream",
     "text": [
      "13\n",
      "7\n",
      "30\n",
      "3\n",
      "1\n",
      "3.33\n",
      "3.33\n"
     ]
    }
   ],
   "source": [
    "#정수 2개(a, b)를 입력받아 합, 차, 곱, 몫, 나머지, 나눈 값을 자동으로 계산해보자.\n",
    "#단, b는 0이 아니다.\n",
    "\n",
    "a,b=input().split()\n",
    "a=int(a)\n",
    "b=int(b)\n",
    "print(a+b)\n",
    "print(a-b)\n",
    "print(a*b)\n",
    "print(a//b)\n",
    "print(a%b)\n",
    "print(format((a/b),\".2f\"))\n",
    "print(round(a/b,2))\n",
    "#10 3\n"
   ]
  },
  {
   "cell_type": "code",
   "execution_count": 1,
   "metadata": {},
   "outputs": [
    {
     "name": "stdout",
     "output_type": "stream",
     "text": [
      "6 2.00\n"
     ]
    }
   ],
   "source": [
    "#정수 3개를 입력받아 합과 평균을 출력\n",
    "a,b,c=input().split()\n",
    "a=int(a)\n",
    "b=int(b)\n",
    "c=int(c)\n",
    "n=(a+b+c) /3\n",
    "n=float(n) #이거 안해도 2.00출력됨\n",
    "print(a+b+c,format(n,\".2f\"))\n",
    "#1 2 3"
   ]
  },
  {
   "cell_type": "code",
   "execution_count": 5,
   "metadata": {},
   "outputs": [
    {
     "name": "stdout",
     "output_type": "stream",
     "text": [
      "20\n",
      "5\n"
     ]
    }
   ],
   "source": [
    "#정수 1개를 입력받아 2배 곱해 출력해보자.\n",
    "#정수를 2배로 곱하거나 나누어 계산해 주는 비트단위시프트연산자 <<, >>를 이용\n",
    "a=int(input())\n",
    "print(a<<1) #x2\n",
    "print(a>>1) #/2\n",
    "#10"
   ]
  },
  {
   "cell_type": "code",
   "execution_count": 7,
   "metadata": {},
   "outputs": [
    {
     "name": "stdout",
     "output_type": "stream",
     "text": [
      "8\n"
     ]
    }
   ],
   "source": [
    "#정수 2개(a, b)를 입력받아 a를 2b배 곱한 값으로 출력해보자.\n",
    "a,b=input().split()\n",
    "a=int(a)\n",
    "b=int(b)\n",
    "print(a<<b)\n",
    "# 1 3"
   ]
  },
  {
   "cell_type": "code",
   "execution_count": 13,
   "metadata": {},
   "outputs": [
    {
     "name": "stdout",
     "output_type": "stream",
     "text": [
      "True\n",
      "True\n",
      "True\n"
     ]
    }
   ],
   "source": [
    "#두 정수(a, b)를 입력받아a가 b보다 작으면 True를, a가 b보다 크거나 같으면 False 를 출력하는 프로그램을 작성\n",
    "#1 9\n",
    "\n",
    "a,b=input().split()\n",
    "a=int(a)\n",
    "b=int(b)\n",
    "if a <b :\n",
    "    print(True)\n",
    "else :\n",
    "  print(False)\n",
    "\n",
    "#다른 방법\n",
    "print(a<b)\n",
    "print(1<=3)"
   ]
  },
  {
   "cell_type": "code",
   "execution_count": 15,
   "metadata": {},
   "outputs": [
    {
     "name": "stdout",
     "output_type": "stream",
     "text": [
      "False\n"
     ]
    }
   ],
   "source": [
    "#두 정수(a, b)를 입력받아 a와 b의 값이 같으면 True 를, 같지 않으면 False 를 출력\n",
    "#0 1\n",
    "a,b=input().split()\n",
    "print(a==b)"
   ]
  },
  {
   "cell_type": "code",
   "execution_count": 16,
   "metadata": {},
   "outputs": [
    {
     "name": "stdout",
     "output_type": "stream",
     "text": [
      "False\n"
     ]
    }
   ],
   "source": [
    "#두 정수(a, b)를 입력받아 b의 값이 a의 값 보다 크거나 같으면 True 를, 같지 않으면 False\n",
    "\n",
    "a,b=input().split()\n",
    "a=int(a)\n",
    "b=int(b)\n",
    "print(a<=b)\n",
    "\n"
   ]
  },
  {
   "cell_type": "code",
   "execution_count": 17,
   "metadata": {},
   "outputs": [
    {
     "name": "stdout",
     "output_type": "stream",
     "text": [
      "True\n"
     ]
    }
   ],
   "source": [
    "a,b=input().split()\n",
    "a=int(a)\n",
    "b=int(b)\n",
    "print(a!=b)"
   ]
  },
  {
   "cell_type": "code",
   "execution_count": 18,
   "metadata": {},
   "outputs": [
    {
     "name": "stdout",
     "output_type": "stream",
     "text": [
      "False\n"
     ]
    }
   ],
   "source": [
    "#정수가 입력되었을 때, True/False 로 평가해주는 프로그램을 작성\n",
    "a=int(input())\n",
    "print(bool(a))\n",
    "#python 언어에서 정수값 0은 False(거짓)로 평가되고, 그 외의 값들은 모두 True(참)로 평가된다.\n",
    "#0"
   ]
  },
  {
   "cell_type": "code",
   "execution_count": 19,
   "metadata": {},
   "outputs": [
    {
     "name": "stdout",
     "output_type": "stream",
     "text": [
      "False\n"
     ]
    }
   ],
   "source": [
    "#정수값이 입력될 때, 그 불 값을 반대로 출력\n",
    "a=bool(int(input()))\n",
    "print(not a)\n",
    "# 1"
   ]
  },
  {
   "cell_type": "code",
   "execution_count": 22,
   "metadata": {},
   "outputs": [
    {
     "name": "stdout",
     "output_type": "stream",
     "text": [
      "False\n"
     ]
    }
   ],
   "source": [
    "#2개의 정수값이 입력될 때, 그 불 값이 모두 True 일 때에만 True 를 출력\n",
    "\n",
    "a,b=input().split()\n",
    "print(bool(int(a)) and bool(int(b)))\n",
    "# 1 0"
   ]
  },
  {
   "cell_type": "code",
   "execution_count": 24,
   "metadata": {},
   "outputs": [
    {
     "name": "stdout",
     "output_type": "stream",
     "text": [
      "False\n",
      "False\n"
     ]
    }
   ],
   "source": [
    "#2개의 정수값이 입력될 때,그 불 값(True/False) 이 서로 다를 때에만 True 를 출력\n",
    "a,b=input().split()\n",
    "a=bool(int(a))\n",
    "b=bool(int(b))\n",
    "print(a!=b)\n",
    "print((a and (not b)) or (not a) and b) \n",
    "#이것도 가능한데 이거 잘 모르겠으면 4비트로 해가지고 0011, 0101그려봐\n",
    "#1 1"
   ]
  },
  {
   "cell_type": "code",
   "execution_count": 26,
   "metadata": {},
   "outputs": [
    {
     "name": "stdout",
     "output_type": "stream",
     "text": [
      "True\n",
      "True\n"
     ]
    }
   ],
   "source": [
    "#모두 false일 때만 True 출력\n",
    "a,b = input().split()\n",
    "a=bool(int(a))\n",
    "b=bool(int(b))\n",
    "print(not(a or b))\n",
    "print(a==False and b==False )\n",
    "#0 0 "
   ]
  },
  {
   "cell_type": "code",
   "execution_count": 33,
   "metadata": {},
   "outputs": [
    {
     "name": "stdout",
     "output_type": "stream",
     "text": [
      "-3\n"
     ]
    }
   ],
   "source": [
    "#입력 된 정수를 비트단위로 참/거짓을 바꾼 후 정수로 출력\n",
    "a=int(input())\n",
    "print(~a) #~(bitwise not)\n"
   ]
  },
  {
   "cell_type": "code",
   "execution_count": 38,
   "metadata": {},
   "outputs": [
    {
     "name": "stdout",
     "output_type": "stream",
     "text": [
      "1\n"
     ]
    }
   ],
   "source": [
    "#입력된 정수 두 개를 비트단위로 and 연산한 후 그 결과를 정수로 출력\n",
    "a,b=input().split()\n",
    "print(int(a) & int(b))\n",
    "#비트단위(bitwise)연산자 &를 사용하면 된다.(and, ampersand, 앰퍼센드라고 읽는다.)\n",
    "# 3 5"
   ]
  },
  {
   "cell_type": "code",
   "execution_count": 39,
   "metadata": {},
   "outputs": [
    {
     "name": "stdout",
     "output_type": "stream",
     "text": [
      "7\n"
     ]
    }
   ],
   "source": [
    "#or 연산\n",
    "a,b=input().split()\n",
    "print(int(a) | int(b)) #비트단위(bitwise) 연산자 |(or, vertical bar, 버티컬바)\n",
    "#3 5"
   ]
  },
  {
   "cell_type": "code",
   "execution_count": 40,
   "metadata": {},
   "outputs": [
    {
     "name": "stdout",
     "output_type": "stream",
     "text": [
      "6\n"
     ]
    }
   ],
   "source": [
    "#xor 연산\n",
    "a,b=input().split()\n",
    "print(int(a) ^ int(b)) #비트단위(bitwise) 연산자 ^(xor, circumflex/caret, 서컴플렉스/카릿)\n",
    "# 3 5"
   ]
  },
  {
   "cell_type": "code",
   "execution_count": 41,
   "metadata": {},
   "outputs": [
    {
     "name": "stdout",
     "output_type": "stream",
     "text": [
      "456\n"
     ]
    }
   ],
   "source": [
    "#두 정수(a, b) 중 큰 값을 출력\n",
    "a,b=input().split()\n",
    "a=int(a)\n",
    "b=int(b)\n",
    "print( a if(a > b) else b)"
   ]
  },
  {
   "cell_type": "code",
   "execution_count": 52,
   "metadata": {},
   "outputs": [
    {
     "name": "stdout",
     "output_type": "stream",
     "text": [
      "-1\n",
      "-1\n"
     ]
    }
   ],
   "source": [
    "#입력된 세 정수 a, b, c 중 가장 작은 값을 출력\n",
    "a,b,c=input().split()\n",
    "a=int(a)\n",
    "b=int(b)\n",
    "c=int(c)\n",
    "\n",
    "x= a if a<b else b\n",
    "y= x if x<c else c\n",
    "print(y)\n",
    "print((b if a>b else a) if ((b if a>b else a))<c else c) #가장 작은 수\n",
    "#3 -1 5"
   ]
  },
  {
   "cell_type": "code",
   "execution_count": 53,
   "metadata": {},
   "outputs": [
    {
     "name": "stdout",
     "output_type": "stream",
     "text": [
      "2\n",
      "4\n"
     ]
    }
   ],
   "source": [
    "#3개의 정수(a, b, c)가 입력되었을 때, 짝수만 출력\n",
    "\n",
    "a,b,c=input().split()\n",
    "a=int(a)\n",
    "b=int(b)\n",
    "c=int(c)\n",
    "if a % 2 ==0:\n",
    "    print(a)\n",
    "if b % 2==0:\n",
    "    print(b)\n",
    "if c % 2 ==0:\n",
    "    print(c)\n",
    "# 1 2 4\n"
   ]
  },
  {
   "cell_type": "code",
   "execution_count": 58,
   "metadata": {},
   "outputs": [
    {
     "name": "stdout",
     "output_type": "stream",
     "text": [
      "A\n"
     ]
    }
   ],
   "source": [
    "#0이 아닌 정수 1개가 입력되었을 때, 음(-)/양(+)과 짝(even)/홀(odd)을 구분\n",
    "#음수이면서 짝수이면, A\n",
    "#음수이면서 홀수이면, B\n",
    "#양수이면서 짝수이면, C\n",
    "#양수이면서 홀수이면, D\n",
    "\n",
    "a=int(input())\n",
    "\n",
    "if a % 2 ==0:\n",
    "    if a>0:\n",
    "       print(\"C\")\n",
    "    else:\n",
    "        print(\"A\")\n",
    "elif a>0:\n",
    "    print(\"D\")\n",
    "else:\n",
    "    print(\"B\")\n",
    "\n",
    "\n",
    "\n"
   ]
  },
  {
   "cell_type": "code",
   "execution_count": 59,
   "metadata": {},
   "outputs": [
    {
     "name": "stdout",
     "output_type": "stream",
     "text": [
      "B\n"
     ]
    }
   ],
   "source": [
    "#점수(정수, 0 ~ 100)를 입력받아 평가를 출력해보자.\n",
    "\n",
    "#평가 기준\n",
    "#점수 범위 : 평가\n",
    "# 90 ~ 100 : A\n",
    "# 70 ~   89 : B\n",
    "# 40 ~   69 : C\n",
    "#   0 ~   39 : D\n",
    "\n",
    "a=int(input())\n",
    "if a>=90 and a<=100:\n",
    "    print('A')\n",
    "elif a>=70 and a<90:\n",
    "    print('B')\n",
    "elif a>=40 and a<70:\n",
    "    print('C')\n",
    "else :\n",
    "    print('D')\n"
   ]
  },
  {
   "cell_type": "code",
   "execution_count": 62,
   "metadata": {},
   "outputs": [
    {
     "name": "stdout",
     "output_type": "stream",
     "text": [
      "slowly~\n"
     ]
    }
   ],
   "source": [
    "\n",
    "# 평가를 문자(A, B, C, D, ...)로 입력받아 내용을 다르게 출력해보자.\n",
    "\n",
    "# 평가 내용\n",
    "# 평가 : 내용\n",
    "# A : best!!!\n",
    "# B : good!!\n",
    "# C : run!\n",
    "# D : slowly~\n",
    "# 나머지 문자들 : what?\n",
    "\n",
    "a=input()\n",
    "if a==\"A\":\n",
    "    print(\"best!!!\")\n",
    "elif a==\"B\":\n",
    "    print(\"good!!\")\n",
    "elif a==\"C\":\n",
    "    print(\"run!\")\n",
    "elif a==\"D\":\n",
    "    print(\"slowly~\")\n",
    "else:\n",
    "    print(\"what?\")\n",
    "\n",
    "\n",
    "\n"
   ]
  },
  {
   "cell_type": "code",
   "execution_count": 68,
   "metadata": {},
   "outputs": [
    {
     "name": "stdout",
     "output_type": "stream",
     "text": [
      "winter\n",
      "winter\n"
     ]
    }
   ],
   "source": [
    "# 월이 입력될 때 계절 이름이 출력되도록 해보자.\n",
    "\n",
    "# 월 : 계절 이름\n",
    "# 12, 1, 2 : winter\n",
    "#   3, 4, 5 : spring\n",
    "#   6, 7, 8 : summer\n",
    "#   9, 10, 11 : fall\n",
    "\n",
    "a=int(input())\n",
    "if a==12 or a==1 or a==2:\n",
    "    print(\"winter\")\n",
    "elif a==3 or a==4 or a==5:\n",
    "    print(\"spring\")\n",
    "elif a==6 or a==7 or a==8:\n",
    "    print(\"summer\")\n",
    "else:\n",
    "    print(\"fall\")\n",
    "\n",
    "if a//3==1:\n",
    "    print(\"spring\")\n",
    "elif a//3==2:\n",
    "    print(\"summer\")\n",
    "elif a//3==3:\n",
    "    print(\"fall\")\n",
    "else:\n",
    "    print(\"winter\")"
   ]
  },
  {
   "cell_type": "code",
   "execution_count": 69,
   "metadata": {},
   "outputs": [
    {
     "name": "stdout",
     "output_type": "stream",
     "text": [
      "3\n",
      "5\n",
      "7\n",
      "9\n",
      "10\n"
     ]
    }
   ],
   "source": [
    "#0이 아니면 입력된 정수를 출력하고, 0이 입력되면 출력을 중단\n",
    "a=int(input())\n",
    "while int(a) != 0:\n",
    "    print(a)\n",
    "    a=input()\n",
    "if a==0:\n",
    "    print()\n",
    "\n",
    "#이것도 가능\n",
    "# while True:\n",
    "#     a=input()\n",
    "#     a=int(a)\n",
    "#     if a==0:\n",
    "#         break\n",
    "#     else:\n",
    "#         print(a)\n"
   ]
  },
  {
   "cell_type": "code",
   "execution_count": 72,
   "metadata": {},
   "outputs": [
    {
     "name": "stdout",
     "output_type": "stream",
     "text": [
      "5\n",
      "4\n",
      "3\n",
      "2\n",
      "1\n"
     ]
    }
   ],
   "source": [
    "#정수(1 ~ 100) 1개가 입력되었을 때 카운트다운을 출력(5입력)\n",
    "\n",
    "a=int(input())\n",
    "while a>0:\n",
    "    print(a)\n",
    "    a=a-1\n",
    "    if a==0:\n",
    "        break\n",
    "\n",
    "#이것도!  \n",
    "# while a!=0:\n",
    "#     print(a)\n",
    "#     a=a-1"
   ]
  },
  {
   "cell_type": "code",
   "execution_count": 75,
   "metadata": {},
   "outputs": [
    {
     "name": "stdout",
     "output_type": "stream",
     "text": [
      "4\n",
      "3\n",
      "2\n",
      "1\n",
      "0\n"
     ]
    }
   ],
   "source": [
    "#정수(1 ~ 100) 1개가 입력되었을 때 카운트다운을 출력(5 입력)\n",
    "\n",
    "a=int(input())\n",
    "while a>0 :\n",
    "    a=a-1\n",
    "    print(a)\n",
    "    "
   ]
  },
  {
   "cell_type": "code",
   "execution_count": 84,
   "metadata": {},
   "outputs": [
    {
     "name": "stdout",
     "output_type": "stream",
     "text": [
      "a b c d e f "
     ]
    }
   ],
   "source": [
    "# 영문 소문자(a ~ z) 1개가 입력되었을 때,\n",
    "# a부터 그 문자까지의 알파벳을 순서대로 출력해보자\n",
    "\n",
    "b=ord(input()) #A입력하면 a는 65(문자->정수)\n",
    "a=ord('a') #a는 97번\n",
    "\n",
    "while a<=b:\n",
    "    print(chr(a),end=' ') #end는 마지막에 줄을 바꾸지 말고 출력하라는 의미\n",
    "    a +=1\n",
    "\n",
    "#f입력\n",
    "\n"
   ]
  },
  {
   "cell_type": "code",
   "execution_count": 85,
   "metadata": {},
   "outputs": [
    {
     "name": "stdout",
     "output_type": "stream",
     "text": [
      "0\n",
      "1\n",
      "2\n",
      "3\n",
      "4\n"
     ]
    }
   ],
   "source": [
    "#정수(0 ~ 100) 1개를 입력받아 0부터 그 수까지 순서대로 출력\n",
    "\n",
    "a=int(input())\n",
    "b=0\n",
    "while b<=a:\n",
    "    print(b)\n",
    "    b += 1\n",
    "    \n",
    "#4입력"
   ]
  },
  {
   "cell_type": "code",
   "execution_count": 87,
   "metadata": {},
   "outputs": [
    {
     "name": "stdout",
     "output_type": "stream",
     "text": [
      "0\n",
      "1\n",
      "2\n",
      "3\n",
      "4\n"
     ]
    }
   ],
   "source": [
    "#정수(0 ~ 100) 1개를 입력받아 0부터 그 수까지 순서대로 출력(for문 사용)\n",
    "\n",
    "a=int(input())\n",
    "\n",
    "for i in range(0,a+1):\n",
    "    print(i)\n",
    "    \n",
    "#4입력\n"
   ]
  },
  {
   "cell_type": "code",
   "execution_count": 106,
   "metadata": {},
   "outputs": [
    {
     "name": "stdout",
     "output_type": "stream",
     "text": [
      "6\n"
     ]
    }
   ],
   "source": [
    "#정수(1 ~ 100) 1개를 입력받아 1부터 그 수까지 짝수의 합(입력 5)\n",
    "\n",
    "a=int(input())\n",
    "sum=0\n",
    "\n",
    "for i in range(1,a+1):\n",
    "    if i % 2 == 0:\n",
    "        sum += i\n",
    "\n",
    "print(sum)"
   ]
  },
  {
   "cell_type": "code",
   "execution_count": 97,
   "metadata": {},
   "outputs": [
    {
     "name": "stdout",
     "output_type": "stream",
     "text": [
      "9\n"
     ]
    }
   ],
   "source": [
    "#이건 홀수만 출력(입력 5)\n",
    "n = int(input())\n",
    "s = 0\n",
    "for i in range(1, n+1) :\n",
    "  if i%2==1 :\n",
    "    s += i\n",
    "\n",
    "print(s)"
   ]
  },
  {
   "cell_type": "code",
   "execution_count": 112,
   "metadata": {},
   "outputs": [
    {
     "name": "stdout",
     "output_type": "stream",
     "text": [
      "a\n",
      "f\n",
      "q\n"
     ]
    }
   ],
   "source": [
    "#영문 소문자 'q'가 입력될 때까지 입력한 문자를 계속 출력\n",
    "a=input()\n",
    "while True:\n",
    "    if a=='q':\n",
    "        print('q')\n",
    "        break\n",
    "    else:\n",
    "        print(a)\n",
    "        a=input()"
   ]
  },
  {
   "cell_type": "code",
   "execution_count": 146,
   "metadata": {},
   "outputs": [
    {
     "name": "stdout",
     "output_type": "stream",
     "text": [
      "10\n"
     ]
    }
   ],
   "source": [
    "# 1부터 n까지 정수를 계속 더해 나간다고 할 때, 어디까지 더해야 입력한 수보다 같거나 커지는 지\n",
    "\n",
    "a=int(input())\n",
    "sum=0\n",
    "i=1\n",
    "\n",
    "while sum <a:\n",
    "    sum += i\n",
    "    i += 1\n",
    "print(i-1)\n",
    "#55\n",
    "\n",
    "#이것도 ok\n",
    "# n=int(input())\n",
    "# s=0\n",
    "# t=0\n",
    "# while s<n :\n",
    "#     t+=1\n",
    "#     s = s+t\n",
    "# print(t)\n"
   ]
  },
  {
   "cell_type": "code",
   "execution_count": 149,
   "metadata": {},
   "outputs": [
    {
     "name": "stdout",
     "output_type": "stream",
     "text": [
      "1 1\n",
      "1 2\n",
      "1 3\n",
      "2 1\n",
      "2 2\n",
      "2 3\n"
     ]
    }
   ],
   "source": [
    "#1부터 n까지, 1부터 m까지 숫자가 적힌 서로 다른 주사위 2개를 던졌을 때, 나올 수 있는 모든 경우를 출력\n",
    "\n",
    "a,b=input().split()\n",
    "a=int(a)\n",
    "b=int(b)\n",
    "\n",
    "for i in range(1,a+1): #int지정 안해주면 for문 안돌아감\n",
    "    for j in range(1,b+1):\n",
    "        print(i,j)\n",
    "\n",
    "# 2 3\n"
   ]
  },
  {
   "cell_type": "code",
   "execution_count": 150,
   "metadata": {},
   "outputs": [
    {
     "name": "stdout",
     "output_type": "stream",
     "text": [
      "1 2 4 5 7 8 10 "
     ]
    }
   ],
   "source": [
    "#1부터 입력한 정수까지 1씩 증가시켜 출력하는 프로그램을 작성하되,\n",
    "#3의 배수인 경우는 출력하지 않도록 만들어보자.\n",
    "\n",
    "a=int(input())\n",
    "\n",
    "for i in range(1,a+1):\n",
    "    if i%3==0:\n",
    "        continue #다음 반복 단계로 넘어감\n",
    "    print(i,end=' ')\n"
   ]
  },
  {
   "cell_type": "code",
   "execution_count": 163,
   "metadata": {},
   "outputs": [
    {
     "name": "stdout",
     "output_type": "stream",
     "text": [
      "1458\n",
      "1458\n"
     ]
    }
   ],
   "source": [
    "#시작 값(a), 등비(r), 몇 번째인지를 나타내는 정수(n)가 입력될 때\n",
    "#n번째 수를 출력하는 프로그램(입력 2 3 7)\n",
    "\n",
    "a,r,n=input().split()\n",
    "n=int(n)\n",
    "a=int(a)\n",
    "r=int(r)\n",
    "\n",
    "result =a*(r**(n-1))\n",
    "print(result)\n",
    "\n",
    "for i in range(1,n):\n",
    "    a=a*r\n",
    "print(a)\n",
    "\n"
   ]
  },
  {
   "cell_type": "code",
   "execution_count": 165,
   "metadata": {},
   "outputs": [
    {
     "name": "stdout",
     "output_type": "stream",
     "text": [
      "13\n"
     ]
    }
   ],
   "source": [
    "#시작 값(a), 등차(d), 몇 번째인지를 나타내는 정수(n)가 입력될 때\n",
    "#n번째 수를 출력하는 프로그램( 1 3 5 입력)\n",
    "\n",
    "a,d,n=input().split()\n",
    "\n",
    "a=int(a)\n",
    "d=int(d)\n",
    "n=int(n)\n",
    "\n",
    "for i in range(1,n):\n",
    "    a +=d\n",
    "print(a)"
   ]
  },
  {
   "cell_type": "code",
   "execution_count": 180,
   "metadata": {},
   "outputs": [
    {
     "name": "stdout",
     "output_type": "stream",
     "text": [
      "B*1=B\n",
      "B*2=16\n",
      "B*3=21\n",
      "B*4=2C\n",
      "B*5=37\n",
      "B*6=42\n",
      "B*7=4D\n",
      "B*8=58\n",
      "B*9=63\n",
      "B*A=6E\n",
      "B*B=79\n",
      "B*C=84\n",
      "B*D=8F\n",
      "B*E=9A\n",
      "B*F=A5\n"
     ]
    }
   ],
   "source": [
    "#A, B, C, D, E, F 중 하나가 입력될 때,\n",
    "#1부터 F까지 곱한 16진수 구구단의 내용을 출력\n",
    "#B입력\n",
    "\n",
    "a=input()\n",
    "a=int(a,16) #이 부분 체크(몰랐음)\n",
    "\n",
    "\n",
    "for i in range(1,16):\n",
    "    print('%X'%a,'*%X'%i ,'=%X'%(a*i),sep=\"\")\n",
    "    print(\"%X*%X=%X\"%(a,i,a*i)) #이것도 가능\n",
    "\n"
   ]
  },
  {
   "cell_type": "code",
   "execution_count": 184,
   "metadata": {},
   "outputs": [
    {
     "name": "stdout",
     "output_type": "stream",
     "text": [
      "0 0 0\n",
      "0 0 1\n",
      "0 1 0\n",
      "0 1 1\n",
      "1 0 0\n",
      "1 0 1\n",
      "1 1 0\n",
      "1 1 1\n",
      "8\n"
     ]
    }
   ],
   "source": [
    "#주어진 rgb 빛들을 섞어 만들 수 있는 모든 경우의 조합(r g b)과 만들 수 있는 색의 가짓 수를 계산해보자. \n",
    "\n",
    "r,g,b=input().split() # 2 2 2는 0과 1 2가지 색이 있음을 의미\n",
    "r=int(r)\n",
    "g=int(g)\n",
    "b=int(b)\n",
    "\n",
    "for i in range(0,r):\n",
    "    for j in range(0,g):\n",
    "        for k in range(0,b):\n",
    "            print(i,j,k)\n",
    "print(r*g*b)\n"
   ]
  },
  {
   "cell_type": "code",
   "execution_count": 190,
   "metadata": {},
   "outputs": [
    {
     "name": "stdout",
     "output_type": "stream",
     "text": [
      "1.7 MB\n",
      "1.7 MB\n"
     ]
    }
   ],
   "source": [
    "# 1초 동안 마이크로 소리강약을 체크하는 횟수를 h(Hz)\n",
    "# 한 번 체크한 값을 저장할 때 사용하는 비트수를 b\n",
    "# 좌우 등 소리를 저장할 트랙 개수인 채널 개수를 c (모노는 1개, 스테레오는 2개의 트랙으로 저장함을 의미)\n",
    "# 녹음할 시간(초) s가 주어질 때,\n",
    "# 필요한 저장 용량을 계산하는 프로그램을 작성해보자.(MB단위로)\n",
    "\n",
    "#       8 bit(비트)           = 1byte(바이트)       # 8bit=1Byte\n",
    "# 1024 Byte(210 byte) = 1KB(킬로 바이트)  # 1024Byte=1KB\n",
    "# 1024 KB(210 KB)      = 1MB(메가 바이트)\n",
    "# 1024 MB(210 MB)     = 1GB(기가 바이트)\n",
    "# 1024 GB(210 GB)      = 1TB(테라 바이트)\n",
    "\n",
    "#44100 16 2 10입력\n",
    "h,b,c,s=input().split()\n",
    "h=int(h)\n",
    "b=int(b)\n",
    "c=int(c)\n",
    "s=int(s)\n",
    "\n",
    "result=h*b*c*s/8/1024/1024\n",
    "print(format(result,\".1f\"),'MB')\n",
    "print(round(h*b*c*s/8/1024/1024, 1), \"MB\")\n",
    "\n",
    "\n"
   ]
  },
  {
   "cell_type": "code",
   "execution_count": 206,
   "metadata": {},
   "outputs": [
    {
     "name": "stdout",
     "output_type": "stream",
     "text": [
      "2.25 MB\n"
     ]
    }
   ],
   "source": [
    "# r, g, b 각 색에 대해서 8비트(0~255, 256가지 가능)씩을 사용한다고 하면,\n",
    "# 한 점의 색상은 3가지 r, g, b의 8비트+8비트+8비트로 총 24비트로 표현해서\n",
    "# 총 2^24 가지의 서로 다른 빛의 색깔을 사용할 수 있는 것이다.\n",
    "\n",
    "# 이렇게 이미지의 원래(raw) 데이터를 압축하지 않고 그대로 저장하는 대표적인 이미지 파일이\n",
    "# *.bmp 파일이며, 비트로 그림을 구성한다고 하여 비트맵 방식 또는 래스터 방식이라고 한다.\n",
    "\n",
    "# 이미지의 가로 해상도 w, 세로 해상도 h, 한 픽셀을 저장하기 위한 비트 b 가 주어질 때,\n",
    "# 압축하지 않고 저장하기 위해 필요한 저장 용량을 계산하는 프로그램을 작성해 보자.(MB단위)\n",
    "#단, w, h는 모두 정수이고 1~1024 이다. b는 40이하의 4의 배수이다.\n",
    "\n",
    "#1024 768 24\n",
    "w,h,b=input().split()\n",
    "w=int(w)\n",
    "h=int(h)\n",
    "b=int(b)\n",
    "\n",
    "if b<= 40 and b%4 ==0:\n",
    "  print(format(w*h*b/8/1024/1024,\".2f\"),'MB')\n",
    "else:\n",
    "  print(\"b는 40이하의 4의 배수가 아닙니다\")\n"
   ]
  },
  {
   "cell_type": "code",
   "execution_count": 219,
   "metadata": {},
   "outputs": [
    {
     "name": "stdout",
     "output_type": "stream",
     "text": [
      "0\n"
     ]
    }
   ],
   "source": [
    "# 1, 2, 3 ... 을 순서대로 계속 더해 합을 만드는데,\n",
    "# 그 합이 입력한 정수보다 작을 동안만 계속 더하는 프로그램을 작성해보자.\n",
    "\n",
    "# 예를 들어, 57을 입력하면\n",
    "# 1+2+3+...+8+9+10=55에서 그 다음 수인 11을 더해 66이 될 때,\n",
    "# 그 값 66이 출력되어야 한다.\n",
    "\n",
    "a=int(input())\n",
    "sum=0\n",
    "for i in range(1,a+1):\n",
    "    sum += i\n",
    "    if sum >= a:\n",
    "         break\n",
    "print(sum)\n",
    "#57입력"
   ]
  },
  {
   "cell_type": "code",
   "execution_count": 223,
   "metadata": {},
   "outputs": [
    {
     "name": "stdout",
     "output_type": "stream",
     "text": [
      "-85\n"
     ]
    }
   ],
   "source": [
    "# 시작 값(a), 곱할 값(m), 더할 값(d), 몇 번째인지를 나타내는 정수(n)가 입력될 때,\n",
    "# n번째 수를 출력하는 프로그램을 만들어보자.\n",
    "\n",
    "a, m, d, n = map(int, input().split())\n",
    "\n",
    "for i in range(1,n):\n",
    "    a=a*m +d\n",
    "print(a)\n",
    "# 1 -2 1 8"
   ]
  },
  {
   "cell_type": "code",
   "execution_count": 225,
   "metadata": {},
   "outputs": [
    {
     "name": "stdout",
     "output_type": "stream",
     "text": [
      "63\n"
     ]
    }
   ],
   "source": [
    "\n",
    "# 같은 날 동시에 가입한 인원 3명이 규칙적으로 방문하는,\n",
    "# 방문 주기가 공백을 두고 입력된다. \n",
    "# 3명이 다시 모두 함께 방문해 문제를 풀어보는 날(동시 가입/등업 후 며칠 후?)을 출력\n",
    "                            \n",
    "#  3 7 9                           \n",
    "a,b,c=map(int,input().split())\n",
    "d=1\n",
    "while d%a !=0 or d%b != 0 or d%c !=0:\n",
    "    d +=1\n",
    "\n",
    "print(d)\n"
   ]
  },
  {
   "cell_type": "code",
   "execution_count": 228,
   "metadata": {},
   "outputs": [
    {
     "name": "stdout",
     "output_type": "stream",
     "text": [
      "0 0 0 1 1 0 0 0 0 0 0 0 0 0 0 0 0 0 0 0 0 0 0 "
     ]
    }
   ],
   "source": [
    "#출석 번호를 n번 무작위로 불렀을 때, 각 번호(1 ~ 23)가 불린 횟수를 각각 출력해보자.\n",
    "\n",
    "n=int(input())\n",
    "a=list(map(int,input().split())) # 호출된 출석 번호들을 리스트로 저장\n",
    "\n",
    "# for i in range(n): 이렇게도 리스트로 저장 가능\n",
    "#     a[i]=int(a[i])\n",
    "\n",
    "d=[]\n",
    "for i in range(24):\n",
    "    d.append(0) #0을 24개 집어넣음\n",
    "\n",
    "for i in range(n):\n",
    "    d[a[i]] += 1\n",
    "\n",
    "for i in range(1,24):\n",
    "    print(d[i],end=' ')\n",
    "\n",
    "\n",
    "\n"
   ]
  },
  {
   "cell_type": "code",
   "execution_count": 232,
   "metadata": {},
   "outputs": [
    {
     "name": "stdout",
     "output_type": "stream",
     "text": [
      "2 4 2 5 "
     ]
    }
   ],
   "source": [
    "#출석을 부른 번호 순서를 바꾸어 공백을 두고 출력한다.\n",
    "\n",
    "n=int(input())\n",
    "a=list(map(int,input().split()))\n",
    "\n",
    "\n",
    "for i in range(n-1,-1,-1): #n-1부터 -1씩 감소\n",
    "    print(a[i],end=' ')\n",
    "\n",
    "#4\n",
    "#5 2 4 2"
   ]
  },
  {
   "cell_type": "code",
   "execution_count": 242,
   "metadata": {},
   "outputs": [
    {
     "name": "stdout",
     "output_type": "stream",
     "text": [
      "-3\n"
     ]
    }
   ],
   "source": [
    "n=int(input())\n",
    "a=list(map(int,input().split()))\n",
    "\n",
    "min=a[0]\n",
    "for i in range(1,n):\n",
    "    if a[i] < min:\n",
    "        min=a[i]\n",
    "print(min)\n",
    "\n",
    "#4\n",
    "# 1 8 0 6\n"
   ]
  },
  {
   "cell_type": "code",
   "execution_count": 245,
   "metadata": {},
   "outputs": [
    {
     "name": "stdout",
     "output_type": "stream",
     "text": [
      "1 0 0 0 0 0 0 0 0 0 0 0 0 0 0 0 0 0 0 \n",
      "0 1 0 0 0 0 0 0 0 0 0 0 0 0 0 0 0 0 0 \n",
      "0 0 1 0 0 0 0 0 0 0 0 0 0 0 0 0 0 0 0 \n",
      "0 0 0 1 0 0 0 0 0 0 0 0 0 0 0 0 0 0 0 \n",
      "0 0 0 0 1 0 0 0 0 0 0 0 0 0 0 0 0 0 0 \n",
      "0 0 0 0 0 0 0 0 0 0 0 0 0 0 0 0 0 0 0 \n",
      "0 0 0 0 0 0 0 0 0 0 0 0 0 0 0 0 0 0 0 \n",
      "0 0 0 0 0 0 0 0 0 0 0 0 0 0 0 0 0 0 0 \n",
      "0 0 0 0 0 0 0 0 0 0 0 0 0 0 0 0 0 0 0 \n",
      "0 0 0 0 0 0 0 0 0 0 0 0 0 0 0 0 0 0 0 \n",
      "0 0 0 0 0 0 0 0 0 0 0 0 0 0 0 0 0 0 0 \n",
      "0 0 0 0 0 0 0 0 0 0 0 0 0 0 0 0 0 0 0 \n",
      "0 0 0 0 0 0 0 0 0 0 0 0 0 0 0 0 0 0 0 \n",
      "0 0 0 0 0 0 0 0 0 0 0 0 0 0 0 0 0 0 0 \n",
      "0 0 0 0 0 0 0 0 0 0 0 0 0 0 0 0 0 0 0 \n",
      "0 0 0 0 0 0 0 0 0 0 0 0 0 0 0 0 0 0 0 \n",
      "0 0 0 0 0 0 0 0 0 0 0 0 0 0 0 0 0 0 0 \n",
      "0 0 0 0 0 0 0 0 0 0 0 0 0 0 0 0 0 0 0 \n",
      "0 0 0 0 0 0 0 0 0 0 0 0 0 0 0 0 0 0 0 \n"
     ]
    }
   ],
   "source": [
    "d=[]\n",
    "for i in range(20):\n",
    "    d.append([]) #리스트 안에 다른 리스트 추가해 넣기\n",
    "    for j in range(20):\n",
    "        d[i].append(0)\n",
    "#d = [[], [], [], [], [], [], [], [], [], [], [], [], [], [], [], [], [], [], [], []]\n",
    "# d[0].append(1)  # 첫 번째 리스트에 1 추가\n",
    "\n",
    "n= int(input())\n",
    "for i in range(n):\n",
    "    x,y=input().split()\n",
    "    d[int(x)][int(y)]=1\n",
    "\n",
    "for i in range(1,20):\n",
    "    for j in range(1,20):\n",
    "        print(d[i][j],end=' ')\n",
    "    print()\n",
    "\n",
    "# 5\n",
    "# 1 1\n",
    "# 2 2\n",
    "# 3 3\n",
    "# 4 4\n",
    "# 5 5\n"
   ]
  },
  {
   "cell_type": "code",
   "execution_count": 256,
   "metadata": {},
   "outputs": [
    {
     "name": "stdout",
     "output_type": "stream",
     "text": [
      "1 1 0 0 0 \n",
      "0 0 1 0 1 \n",
      "0 0 1 0 1 \n",
      "0 0 1 0 1 \n",
      "0 0 0 0 1 \n"
     ]
    }
   ],
   "source": [
    "# 첫 줄에 격자판의 세로(h), 가로(w) 가 공백을 두고 입력되고,\n",
    "# 두 번째 줄에 놓을 수 있는 막대의 개수(n)\n",
    "# 세 번째 줄부터 각 막대의 길이(l), 방향(d), 좌표(x, y)가 입력된다.\n",
    "# 모든 막대를 놓은 격자판의 상태를 출력한다.\n",
    "# 막대에 의해 가려진 경우 1, 아닌 경우 0으로 출력한다.\n",
    "\n",
    "# 길이가 다른 몇 개의 막대를 바둑판과 같은 격자판에 놓는데,\n",
    "# 막대에 있는 설탕과자 이름 아래에 있는 번호를 뽑으면 설탕과자를 가져가는 게임이었다.\n",
    "\n",
    "h,w=map(int,input().split())\n",
    "n=int(input())\n",
    "hw_list=[[0]*w for _ in range(h)]\n",
    "\n",
    "for _ in range(n):\n",
    "    l,d,x,y=map(int,input().split()) #d=0이면 오른쪽/d=1이면 왼쪽\n",
    "    x -= 1 #바둑판은 1x1부터 시작이라서\n",
    "    y -= 1\n",
    "\n",
    "    if d==0: #오른쪽 방향\n",
    "        for i in range(l):\n",
    "            hw_list[x][y+i]=1\n",
    "    elif d==1:\n",
    "        for i in range(l):\n",
    "            hw_list[x+i][y]=1\n",
    "\n",
    "for i in range(h):\n",
    "    for j in range(w):\n",
    "        print(hw_list[i][j],end=' ')\n",
    "    print()\n",
    "\n",
    "\n",
    "# 5 5\n",
    "# 3\n",
    "# 2 0 1 1\n",
    "# 3 1 2 3\n",
    "# 4 1 2 5\n",
    "    \n",
    "\n"
   ]
  },
  {
   "cell_type": "code",
   "execution_count": 291,
   "metadata": {},
   "outputs": [
    {
     "name": "stdout",
     "output_type": "stream",
     "text": [
      "1 1 1 1 1 1 1 1 1 1 \n",
      "1 9 9 1 0 0 0 0 0 1 \n",
      "1 0 9 1 1 1 0 0 0 1 \n",
      "1 0 9 9 9 9 9 1 0 1 \n",
      "1 0 0 0 0 0 9 1 0 1 \n",
      "1 0 0 0 0 1 9 1 0 1 \n",
      "1 0 0 0 0 1 9 1 0 1 \n",
      "1 0 0 0 0 1 0 0 0 1 \n",
      "1 0 0 0 0 0 0 0 0 1 \n",
      "1 1 1 1 1 1 1 1 1 1 \n"
     ]
    }
   ],
   "source": [
    "\n",
    "#개미는 오른쪽 혹은 아래쪽으로만 움직일 수 있음\n",
    "#0은 갈 수 있는 곳 / 1은 장애물\n",
    "#맨 아래 가장 오른쪽에 도착하거나 먹이를 찾으면 끝(먹이는 2로 표시)\n",
    "#출발은 (2,2)\n",
    "#개미가 이동한 경로는 9로 표시\n",
    "\n",
    "h,w=map(int,input().split())\n",
    "list=[[0]*w for _ in range(h)]\n",
    "\n",
    "for i in range(10):\n",
    "    list[i][0]=1\n",
    "    list[i][9]=1\n",
    "    list[0][i]=1\n",
    "    list[9][i]=1\n",
    "list[1][3]=1\n",
    "list[2][3]=1\n",
    "list[2][4]=1\n",
    "list[2][5]=1\n",
    "list[3][7]=1\n",
    "list[4][7]=1\n",
    "list[5][7]=1\n",
    "list[6][7]=1\n",
    "list[5][5]=1\n",
    "list[6][5]=1\n",
    "list[5][5]=1\n",
    "list[6][6]=2 #먹이 위치\n",
    "list[7][5]=1\n",
    "\n",
    "x,y=1,1 #개미 이동 시작\n",
    "list[x][y]=9 #출발 위치\n",
    "\n",
    "while True:\n",
    "    if list[x][y] == 2:\n",
    "        list[x][y] =9\n",
    "        break\n",
    "    if list[x][y+1] != 1:\n",
    "        y += 1\n",
    "    elif list[x+1][y] != 1:\n",
    "        x += 1\n",
    "    else:\n",
    "        break\n",
    "    if list[x][y] != 2:\n",
    "        list[x][y]=9\n",
    "\n",
    "for i in range(h):\n",
    "    for j in range(w):\n",
    "        print(list[i][j], end=' ')\n",
    "    print()"
   ]
  },
  {
   "cell_type": "code",
   "execution_count": 304,
   "metadata": {},
   "outputs": [
    {
     "name": "stdout",
     "output_type": "stream",
     "text": [
      "1 2 X 4 5 X 7 8 X "
     ]
    }
   ],
   "source": [
    "# 친구들과 함께 3 6 9 게임을 하던 영일이는 잦은 실수 때문에 계속해서 벌칙을 받게 되었다.\n",
    "# 3 6 9 게임의 왕이 되기 위한 369 마스터 프로그램을 작성해 보자.\n",
    "\n",
    "# ** 3 6 9 게임은?\n",
    "# 여러 사람이 순서를 정한 후, 순서대로 수를 부르는 게임이다.\n",
    "# 만약 3, 6, 9 가 들어간 수를 자신이 불러야 하는 상황이라면, 수를 부르는 대신 \"박수(X)\" 를 쳐야 한다.\n",
    "# 33과 같이 3,6,9가 두 번 들어간 수 일때, \"짝짝\"과 같이 박수를 두 번 치는 형태도 있다\n",
    "\n",
    "\n",
    "a=int(input())\n",
    "\n",
    "#이건 3의 배수임\n",
    "# for i in range(1,a+1):\n",
    "#      if i%3 ==0:\n",
    "#         print('X',end=' ')\n",
    "#      elif i%3 != 0:\n",
    "#          print(i,end=' ') \n",
    "\n",
    "#9입력     \n",
    "for i in range(1,a+1):\n",
    "    str_i =str(i) #숫자를 문자열로 변환해야 함\n",
    "    if '3' in str_i or '6' in str_i or '9' in str_i:\n",
    "        print('X',end=' ')\n",
    "    else:\n",
    "        print(i,end=' ')\n",
    "\n",
    "#이것도 가능\n",
    "# for i in range(1, n+1) :\n",
    "#   if i%10==3 or i%10==6 or i%10==9 :\n",
    "#     print(\"X\", end=' ')\n",
    "#   else :\n",
    "#     print(i, end=' ')\n"
   ]
  },
  {
   "cell_type": "code",
   "execution_count": 2,
   "metadata": {},
   "outputs": [
    {
     "name": "stdout",
     "output_type": "stream",
     "text": [
      "0 0 0 0 0 0 0 0 0 0 0 0 0 0 0 0 0 0 0\n",
      "0 0 0 0 0 0 0 0 0 0 0 0 0 0 0 0 0 0 0\n",
      "0 0 0 0 0 0 0 0 0 0 0 0 0 0 0 0 0 0 0\n",
      "0 0 0 0 0 0 0 0 0 0 0 0 0 0 0 0 0 0 0\n",
      "0 0 0 0 0 0 0 0 0 0 0 0 0 0 0 0 0 0 0\n",
      "0 0 0 0 0 0 0 0 0 0 0 0 0 0 0 0 0 0 0\n",
      "0 0 0 0 0 0 0 0 0 0 0 0 0 0 0 0 0 0 0\n",
      "0 0 0 0 0 0 0 0 0 0 0 0 0 0 0 0 0 0 0\n",
      "0 0 0 0 0 0 0 0 0 0 0 0 0 0 0 0 0 0 0\n",
      "0 0 0 0 0 0 0 0 0 1 0 1 0 0 0 0 0 0 0\n",
      "0 0 0 0 0 0 0 0 0 0 0 0 0 0 0 0 0 0 0\n",
      "0 0 0 0 0 0 0 0 0 1 0 1 0 0 0 0 0 0 0\n",
      "0 0 0 0 0 0 0 0 0 0 0 0 0 0 0 0 0 0 0\n",
      "0 0 0 0 0 0 0 0 0 0 0 0 0 0 0 0 0 0 0\n",
      "0 0 0 0 0 0 0 0 0 0 0 0 0 0 0 0 0 0 0\n",
      "0 0 0 0 0 0 0 0 0 0 0 0 0 0 0 0 0 0 0\n",
      "0 0 0 0 0 0 0 0 0 0 0 0 0 0 0 0 0 0 0\n",
      "0 0 0 0 0 0 0 0 0 0 0 0 0 0 0 0 0 0 0\n",
      "0 0 0 0 0 0 0 0 0 0 0 0 0 0 0 0 0 0 0\n"
     ]
    }
   ],
   "source": [
    "\n",
    "board=[]\n",
    "for _ in range(19):\n",
    "    board.append(list(map(int,input().split())))\n",
    "\n",
    "n=int(input())\n",
    "\n",
    "for _ in range(n):\n",
    "    x,y=map(int,input().split())\n",
    "    x -= 1\n",
    "    y -= 1\n",
    "\n",
    "    for j in range(19):\n",
    "        if j != y:\n",
    "            if board[x][j] ==1:\n",
    "                board[x][j] =0\n",
    "            else:\n",
    "                board[x][j] = 1\n",
    "\n",
    "    for i in range(19):\n",
    "        if i != x:\n",
    "            if board[i][y] == 1:\n",
    "                board[i][y] =0\n",
    "            else:\n",
    "                board[i][y]=1\n",
    "\n",
    "# 결과 출력\n",
    "for row in board:\n",
    "    print(' '.join(map(str, row)))\n",
    "\n",
    "# row 리스트의 각 요소를 str 함수로 문자열로 변환합니다. \n",
    "# 예를 들어, row가 [1, 0, 1, 0]이라면 map(str, row)는 ['1', '0', '1', '0']가 됩니다.\n",
    "# ' '.join(...): ' '(공백)을 구분자로 하여 문자열 리스트를 하나의 문자열로 결합합니다. \n",
    "# 위의 예에서 ' '.join(...)은 '1 0 1 0'이 됩니다.\n",
    "\n",
    "#입력\n",
    "# 0 0 0 0 0 0 0 0 0 1 0 1 0 0 0 0 0 0 0\n",
    "# 0 0 0 0 0 0 0 0 0 1 0 1 0 0 0 0 0 0 0\n",
    "# 0 0 0 0 0 0 0 0 0 1 0 1 0 0 0 0 0 0 0\n",
    "# 0 0 0 0 0 0 0 0 0 1 0 1 0 0 0 0 0 0 0\n",
    "# 0 0 0 0 0 0 0 0 0 1 0 1 0 0 0 0 0 0 0\n",
    "# 0 0 0 0 0 0 0 0 0 1 0 1 0 0 0 0 0 0 0\n",
    "# 0 0 0 0 0 0 0 0 0 1 0 1 0 0 0 0 0 0 0\n",
    "# 0 0 0 0 0 0 0 0 0 1 0 1 0 0 0 0 0 0 0\n",
    "# 0 0 0 0 0 0 0 0 0 1 0 1 0 0 0 0 0 0 0\n",
    "# 1 1 1 1 1 1 1 1 1 1 1 1 1 1 1 1 1 1 1\n",
    "# 0 0 0 0 0 0 0 0 0 1 0 1 0 0 0 0 0 0 0\n",
    "# 1 1 1 1 1 1 1 1 1 1 1 1 1 1 1 1 1 1 1\n",
    "# 0 0 0 0 0 0 0 0 0 1 0 1 0 0 0 0 0 0 0\n",
    "# 0 0 0 0 0 0 0 0 0 1 0 1 0 0 0 0 0 0 0\n",
    "# 0 0 0 0 0 0 0 0 0 1 0 1 0 0 0 0 0 0 0\n",
    "# 0 0 0 0 0 0 0 0 0 1 0 1 0 0 0 0 0 0 0\n",
    "# 0 0 0 0 0 0 0 0 0 1 0 1 0 0 0 0 0 0 0\n",
    "# 0 0 0 0 0 0 0 0 0 1 0 1 0 0 0 0 0 0 0\n",
    "# 0 0 0 0 0 0 0 0 0 1 0 1 0 0 0 0 0 0 0\n",
    "# 2\n",
    "# 10 10\n",
    "# 12 12\n"
   ]
  },
  {
   "cell_type": "markdown",
   "metadata": {},
   "source": []
  },
  {
   "cell_type": "code",
   "execution_count": null,
   "metadata": {},
   "outputs": [],
   "source": []
  }
 ],
 "metadata": {
  "kernelspec": {
   "display_name": "Python 3",
   "language": "python",
   "name": "python3"
  },
  "language_info": {
   "codemirror_mode": {
    "name": "ipython",
    "version": 3
   },
   "file_extension": ".py",
   "mimetype": "text/x-python",
   "name": "python",
   "nbconvert_exporter": "python",
   "pygments_lexer": "ipython3",
   "version": "3.12.3"
  }
 },
 "nbformat": 4,
 "nbformat_minor": 2
}
